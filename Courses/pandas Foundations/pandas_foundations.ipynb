{
 "cells": [
  {
   "cell_type": "code",
   "execution_count": 47,
   "metadata": {},
   "outputs": [],
   "source": [
    "# Import packages\n",
    "from urllib.request import urlretrieve\n",
    "import requests\n",
    "from bs4 import BeautifulSoup\n",
    "\n",
    "# Specify url\n",
    "course = 'https://www.datacamp.com/courses/pandas-foundations'\n",
    "\n",
    "# Package the request, send the request, catch the response\n",
    "# extract the response as html and create a BeautifulSoup object from the HTML: soup\n",
    "soup = BeautifulSoup(requests.get(course).text)\n",
    "\n",
    "# Create list of links to datasets from course page\n",
    "link_list = []\n",
    "ul_datasets = soup.find_all(\"li\", {\"class\": \"course__dataset\"})\n",
    "for li in ul_datasets:\n",
    "    a_tags = li.findAll('a')\n",
    "    for link in a_tags:\n",
    "        link_list.append(link.get('href'))\n",
    "        \n",
    "# Create file from each link\n",
    "for url in link_list:\n",
    "    filename = url.split('/')[-1]\n",
    "    urlretrieve(url, filename)"
   ]
  },
  {
   "cell_type": "code",
   "execution_count": null,
   "metadata": {},
   "outputs": [],
   "source": []
  }
 ],
 "metadata": {
  "kernelspec": {
   "display_name": "Python 3",
   "language": "python",
   "name": "python3"
  },
  "language_info": {
   "codemirror_mode": {
    "name": "ipython",
    "version": 3
   },
   "file_extension": ".py",
   "mimetype": "text/x-python",
   "name": "python",
   "nbconvert_exporter": "python",
   "pygments_lexer": "ipython3",
   "version": "3.7.0"
  }
 },
 "nbformat": 4,
 "nbformat_minor": 2
}

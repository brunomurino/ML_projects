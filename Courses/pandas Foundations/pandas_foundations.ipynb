{
 "cells": [
  {
   "cell_type": "code",
   "execution_count": 44,
   "metadata": {},
   "outputs": [
    {
     "name": "stdout",
     "output_type": "stream",
     "text": [
      "https://assets.datacamp.com/production/course_1639/datasets/NOAA_QCLCD_2011_hourly_13904.txt\n",
      "NOAA_QCLCD_2011_hourly_13904.txt\n",
      "https://assets.datacamp.com/production/course_1639/datasets/austin_airport_departure_data_2015_july.csv\n",
      "austin_airport_departure_data_2015_july.csv\n",
      "https://assets.datacamp.com/production/course_1639/datasets/auto-mpg.csv\n",
      "auto-mpg.csv\n",
      "https://assets.datacamp.com/production/course_1639/datasets/life_expectancy_at_birth.csv\n",
      "life_expectancy_at_birth.csv\n",
      "https://assets.datacamp.com/production/course_1639/datasets/messy_stock_data.tsv\n",
      "messy_stock_data.tsv\n",
      "https://assets.datacamp.com/production/course_1639/datasets/percent-bachelors-degrees-women-usa.csv\n",
      "percent-bachelors-degrees-women-usa.csv\n",
      "https://assets.datacamp.com/production/course_1639/datasets/tips.csv\n",
      "tips.csv\n",
      "https://assets.datacamp.com/production/course_1639/datasets/titanic.csv\n",
      "titanic.csv\n",
      "https://assets.datacamp.com/production/course_1639/datasets/weather_data_austin_2010.csv\n",
      "weather_data_austin_2010.csv\n",
      "https://assets.datacamp.com/production/course_1639/datasets/world_ind_pop_data.csv\n",
      "world_ind_pop_data.csv\n",
      "https://assets.datacamp.com/production/course_1639/datasets/world_population.csv\n",
      "world_population.csv\n"
     ]
    }
   ],
   "source": [
    "# Import packages\n",
    "from urllib.request import urlretrieve\n",
    "import requests\n",
    "from bs4 import BeautifulSoup\n",
    "\n",
    "# Specify url\n",
    "course = 'https://www.datacamp.com/courses/pandas-foundations'\n",
    "\n",
    "# Package the request, send the request, catch the response, extract the response as html: html_doc\n",
    "html_doc = requests.get(course).text\n",
    "\n",
    "# create a BeautifulSoup object from the HTML: soup\n",
    "soup = BeautifulSoup(html_doc)\n",
    "\n",
    "# del link_list\n",
    "link_list = []\n",
    "\n",
    "# Find all 'a' tags (which define hyperlinks): a_tags\n",
    "ul_datasets = soup.find_all(\"li\", {\"class\": \"course__dataset\"})\n",
    "for li in ul_datasets:\n",
    "    a_tags = li.findAll('a')\n",
    "    for link in a_tags:\n",
    "        link_list.append(link.get('href'))\n",
    "        \n",
    "        \n",
    "for link in link_list:\n",
    "    url = link\n",
    "    filename = link.split('/')[-1]\n",
    "    print(url)\n",
    "    print(filename)\n",
    "    urlretrieve(url, 'winequality-red.csv')\n",
    "        "
   ]
  },
  {
   "cell_type": "code",
   "execution_count": null,
   "metadata": {},
   "outputs": [],
   "source": [
    "# Import package\n",
    "from urllib.request import urlretrieve\n",
    "\n",
    "# Assign url of file: url\n",
    "url = 'https://s3.amazonaws.com/assets.datacamp.com/production/course_1606/datasets/winequality-red.csv'\n",
    "\n",
    "# Save file locally\n",
    "urlretrieve(url, 'winequality-red.csv')"
   ]
  }
 ],
 "metadata": {
  "kernelspec": {
   "display_name": "Python 3",
   "language": "python",
   "name": "python3"
  },
  "language_info": {
   "codemirror_mode": {
    "name": "ipython",
    "version": 3
   },
   "file_extension": ".py",
   "mimetype": "text/x-python",
   "name": "python",
   "nbconvert_exporter": "python",
   "pygments_lexer": "ipython3",
   "version": "3.7.0"
  }
 },
 "nbformat": 4,
 "nbformat_minor": 2
}

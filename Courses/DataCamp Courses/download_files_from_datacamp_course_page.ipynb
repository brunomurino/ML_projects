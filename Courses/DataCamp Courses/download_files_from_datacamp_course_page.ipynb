{
 "cells": [
  {
   "cell_type": "code",
   "execution_count": 4,
   "metadata": {},
   "outputs": [],
   "source": [
    "# Import packages\n",
    "def get_files_from_course(course_url):\n",
    "    \n",
    "    import os.path\n",
    "    from urllib.request import urlretrieve\n",
    "    import requests\n",
    "    from bs4 import BeautifulSoup\n",
    "    \n",
    "    # Package the request, send the request, catch the response and extract the response as html\n",
    "    r = requests.get(course_url)\n",
    "    html = r.text\n",
    "\n",
    "    #  Create a BeautifulSoup object from the HTML: soup\n",
    "    soup = BeautifulSoup(html)\n",
    "\n",
    "    already = 0\n",
    "    downloaded = 0\n",
    "\n",
    "    li_datasets = soup.find_all(\"li\", {\"class\": \"course__dataset\"})\n",
    "    print('Checking {} files...\\n'.format(len(li_datasets)))\n",
    "    for li in li_datasets:\n",
    "        a_tags = li.findAll('a')\n",
    "        for a in a_tags:\n",
    "            url = a.get('href')\n",
    "            filename = url.split('/')[-1]\n",
    "            if os.path.isfile(filename):\n",
    "                already += 1\n",
    "            else :\n",
    "                downloaded += 1\n",
    "                urlretrieve(url, filename)\n",
    "\n",
    "    return print('Already existing files: {}\\nDownloaded files: {}'.format(already, downloaded))"
   ]
  },
  {
   "cell_type": "code",
   "execution_count": null,
   "metadata": {},
   "outputs": [],
   "source": []
  }
 ],
 "metadata": {
  "kernelspec": {
   "display_name": "Python 3",
   "language": "python",
   "name": "python3"
  },
  "language_info": {
   "codemirror_mode": {
    "name": "ipython",
    "version": 3
   },
   "file_extension": ".py",
   "mimetype": "text/x-python",
   "name": "python",
   "nbconvert_exporter": "python",
   "pygments_lexer": "ipython3",
   "version": "3.7.0"
  }
 },
 "nbformat": 4,
 "nbformat_minor": 2
}

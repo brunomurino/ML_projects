{
 "cells": [
  {
   "cell_type": "code",
   "execution_count": null,
   "metadata": {},
   "outputs": [],
   "source": [
    "import numpy as np\n",
    "import matplotlib.pyplot as plt\n",
    "\n",
    "n1 = 1\n",
    "n2 = 1.5\n",
    "theta = np.linspace(0, 80, 1000)\n",
    "theta_rad = theta*np.pi/180\n",
    "\n",
    "thetaB = 180*np.arctan(n2/n1)/np.pi\n",
    "print(thetaB)\n",
    "\n",
    "def R(t):\n",
    "    s = np.sin(t)\n",
    "    c = np.cos(t)\n",
    "    alpha = np.sqrt(1-(n1*s/n2)**2)/c\n",
    "    beta = n2/n1\n",
    "    return (alpha-beta/alpha+beta)**2\n",
    "\n",
    "def T(t):\n",
    "    s = np.sin(t)\n",
    "    c = np.cos(t)\n",
    "    alpha = np.sqrt(1-(n1*s/n2)**2)/c\n",
    "    beta = n2/n1\n",
    "    return alpha*beta*(2/alpha+beta)**2\n",
    "\n",
    "print(T(np.arctan(n2/n1)))\n",
    "\n",
    "plt.plot(theta, R(theta_rad), 'r')\n",
    "plt.plot(theta, T(theta_rad), 'b')\n",
    "plt.grid(True)\n",
    "plt.show()"
   ]
  },
  {
   "cell_type": "code",
   "execution_count": null,
   "metadata": {},
   "outputs": [],
   "source": []
  }
 ],
 "metadata": {
  "kernelspec": {
   "display_name": "Python 3",
   "language": "python",
   "name": "python3"
  },
  "language_info": {
   "codemirror_mode": {
    "name": "ipython",
    "version": 3
   },
   "file_extension": ".py",
   "mimetype": "text/x-python",
   "name": "python",
   "nbconvert_exporter": "python",
   "pygments_lexer": "ipython3",
   "version": "3.7.0"
  }
 },
 "nbformat": 4,
 "nbformat_minor": 2
}

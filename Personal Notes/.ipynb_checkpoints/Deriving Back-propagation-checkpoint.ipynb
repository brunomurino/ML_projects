{
 "cells": [
  {
   "cell_type": "markdown",
   "metadata": {},
   "source": [
    "# Deriving Back-propagation\n",
    "\n",
    "First, let's state our variables and their type:\n",
    "\n",
    "Variable | Denoted by |Belongs to / Domain\n",
    "--|------|------\n",
    "Number of examples on training set| $M$ | $\\mathbb{N}$ \n",
    "Number of layers (excluding input layer) | $L$|$\\mathbb{N}$ \n",
    "Layer index | $\\ell$ | $\\ell = 0,1,2,\\cdots,L$\n",
    "Example index | $m$ | $m = 1,2,\\cdots,M$\n",
    "Number of input features per example in the $(\\ell)$-th layer |$n^{[\\ell]}$| $\\mathbb{N}$\n",
    "Number of input features per example in the $(0)$-th layer |$n_x = n^{[0]}$| $\\mathbb{N}$\n",
    "Input matrix of $(\\ell)$-th layer|   $A^{[\\ell]}$  | $\\text{Mat}(n^{[\\ell]}, M)$\n",
    "Starting input matrix ($0$-th layer) | $X = A^{[0]}$  | $\\text{Mat}(n^{[0]}, M)$\n",
    "Unactivated input matrix of $(\\ell)$-th layer|   $Z^{[\\ell]}$  | $\\text{Mat}(n^{[\\ell]}, M)$\n",
    "Activation function $(\\ell)$-th layer | $g^{[\\ell]}$| $g^{[\\ell]}: \\text{Mat}(n^{[\\ell]}, M) \\to \\text{Mat}(n^{[\\ell]}, M)$\n",
    "Weights matrix to go from $(\\ell-1)$-th layer to $(\\ell)$-th layer | $W^{[\\ell]}$| $\\text{Mat}(n^{[\\ell]}, n^{[\\ell-1]})$\n",
    "Bias matrix to go from $(\\ell-1)$-th layer to $(\\ell)$-th layer | $B^{[\\ell]}$| $\\text{Mat}(n^{[\\ell]}, M)$\n",
    "Number of output features | $C = n^{[L]}$ | $\\mathbb{N}$ \n",
    "Model output | $Y = A^{[L]}$ | $\\text{Mat}(n^{[L]}, M)$\n",
    "$m$-th example of the model output | $Y^{(m)} = A^{[L](m)}$ | $\\text{Mat}(n^{[L]}, 1)$\n",
    "Desired output |  $D $  | $\\text{Mat}(n^{[L]}, M)$\n",
    "$m$-th example of the desired output | $D^{(m)}$ | $\\text{Mat}(n^{[L]}, 1)$\n",
    "$m$-th example of the input matrix of $(\\ell)$-th layer| $A^{[\\ell](m)}$ | $\\text{Mat}(n^{[\\ell]}, 1)$\n",
    "$m$-th example of the unactivated input matrix of $(\\ell)$-th layer| $Z^{[\\ell](m)}$ | $\\text{Mat}(n^{[\\ell]}, 1)$\n",
    "Loss function (single example error) | $L^{(m)} = L(Y^{(m)}, D^{(m)})$ | $L:\\text{Mat}(n^{[L]}, 1)\\times \\text{Mat}(n^{[L]}, 1)  \\to \\mathbb{R}$\n",
    "Error function |  $J(L^{(1)},\\cdots,L^{(M)})$ |  $J:\\mathbb{R}^{M} \\to \\mathbb{R}$\n",
    "\n",
    "First, let's state how to go from the $(\\ell-1)$-th layer  to the $\\ell$-th layer:\n",
    "$$ A^{[\\ell]} = g^{[\\ell]}\\Big(Z^{[\\ell]}\\Big) = g^{[\\ell]}\\Big(W^{[\\ell]}A^{[\\ell-1]} + B^{[\\ell]} \\Big)$$\n",
    "\n",
    "Then, let's state our Error function:\n",
    "$$ J(L^{(0)},\\cdots,L^{(M-1)}) = \\frac{1}{M}\\sum_{m=1}^{M} L^{(m)} $$\n"
   ]
  },
  {
   "cell_type": "code",
   "execution_count": null,
   "metadata": {},
   "outputs": [],
   "source": []
  },
  {
   "cell_type": "code",
   "execution_count": null,
   "metadata": {},
   "outputs": [],
   "source": []
  }
 ],
 "metadata": {
  "celltoolbar": "Raw Cell Format",
  "kernelspec": {
   "display_name": "Python 3",
   "language": "python",
   "name": "python3"
  },
  "language_info": {
   "codemirror_mode": {
    "name": "ipython",
    "version": 3
   },
   "file_extension": ".py",
   "mimetype": "text/x-python",
   "name": "python",
   "nbconvert_exporter": "python",
   "pygments_lexer": "ipython3",
   "version": "3.7.0"
  }
 },
 "nbformat": 4,
 "nbformat_minor": 2
}

{
 "cells": [
  {
   "cell_type": "markdown",
   "metadata": {},
   "source": [
    "# Deriving back-propagation"
   ]
  },
  {
   "cell_type": "markdown",
   "metadata": {},
   "source": [
    "$\n",
    "\\newcommand{\\pdv}[2]{\\frac{\\partial #1}{\\partial #2}}\n",
    "\\newcommand{\\ipdv}[2]{\\partial #1/\\partial #2}\n",
    "\\newcommand{\\dd}[1]{\\,\\textit{d}#1\\,}\n",
    "\\newcommand{\\softmax}[1]{\\Softmax\\left(#1\\right)}\n",
    "\\newcommand{\\smax}[1]{\\Smax\\left(#1\\right)}\n",
    "\\newcommand{\\exp}[1]{e^{#1}}\n",
    "\\newcommand{\\grad}{\\nabla}\n",
    "\\newcommand{\\R}{\\mathbb{R}}\n",
    "\\newcommand{\\N}{\\mathbb{N}}\n",
    "\\newcommand{\\set}[1]{\\left\\{#1\\right\\}}\n",
    "\\newcommand{\\idm}{\\mathbb{1}}  % \\idm identity matrix\n",
    "\\DeclareMathOperator{\\Softmax}{softmax}\n",
    "\\DeclareMathOperator{\\Smax}{smax}\n",
    "\\DeclareMathOperator{\\relu}{ReLU}\n",
    "\\DeclareMathOperator{\\mat}{Mat}\n",
    "\\DeclareMathOperator{\\GL}{GL}\n",
    "\\DeclareMathOperator{\\SL}{SL}\n",
    "\\DeclareMathOperator{\\diag}{diag}\n",
    "\\DeclareMathOperator{\\sgn}{sgn}\n",
    "\\DeclareMathOperator{\\lexp}{exp}\n",
    "$"
   ]
  },
  {
   "cell_type": "markdown",
   "metadata": {
    "toc": true
   },
   "source": [
    "<h1>Contents<span class=\"tocSkip\"></span></h1>\n",
    "<div class=\"toc\"><ul class=\"toc-item\"><li><span><a href=\"#Stating-our-functions\" data-toc-modified-id=\"Stating-our-functions-1\"><span class=\"toc-item-num\">1&nbsp;&nbsp;</span>Stating our functions</a></span></li><li><span><a href=\"#Finding-the-recurrence-relations\" data-toc-modified-id=\"Finding-the-recurrence-relations-2\"><span class=\"toc-item-num\">2&nbsp;&nbsp;</span>Finding the recurrence relations</a></span><ul class=\"toc-item\"><li><span><a href=\"#Finding-$\\dd{Z_h^{[\\ell](m)}}$\" data-toc-modified-id=\"Finding-$\\dd{Z_h^{[\\ell](m)}}$-2.1\"><span class=\"toc-item-num\">2.1&nbsp;&nbsp;</span>Finding $\\dd{Z_h^{[\\ell](m)}}$</a></span></li><li><span><a href=\"#Finding-$\\dd{W_{ij}^{[\\ell]}}$-and-$\\dd{b_{i}^{[\\ell]}}$\" data-toc-modified-id=\"Finding-$\\dd{W_{ij}^{[\\ell]}}$-and-$\\dd{b_{i}^{[\\ell]}}$-2.2\"><span class=\"toc-item-num\">2.2&nbsp;&nbsp;</span>Finding $\\dd{W_{ij}^{[\\ell]}}$ and $\\dd{b_{i}^{[\\ell]}}$</a></span></li><li><span><a href=\"#Finding-$\\dd{A_k^{[\\ell](m)}}$-and-$\\dd{A_k^{[L](m)}}$\" data-toc-modified-id=\"Finding-$\\dd{A_k^{[\\ell](m)}}$-and-$\\dd{A_k^{[L](m)}}$-2.3\"><span class=\"toc-item-num\">2.3&nbsp;&nbsp;</span>Finding $\\dd{A_k^{[\\ell](m)}}$ and $\\dd{A_k^{[L](m)}}$</a></span></li><li><span><a href=\"#The-recurrence-relations\" data-toc-modified-id=\"The-recurrence-relations-2.4\"><span class=\"toc-item-num\">2.4&nbsp;&nbsp;</span>The recurrence relations</a></span></li></ul></li><li><span><a href=\"#Finding-the-explicit-relations\" data-toc-modified-id=\"Finding-the-explicit-relations-3\"><span class=\"toc-item-num\">3&nbsp;&nbsp;</span>Finding the explicit relations</a></span><ul class=\"toc-item\"><li><span><a href=\"#Finding-$\\ipdv{L^{(m)}}{A_k^{[L](m)}}$-and-$\\dd{A_k^{[L](m)}}$\" data-toc-modified-id=\"Finding-$\\ipdv{L^{(m)}}{A_k^{[L](m)}}$-and-$\\dd{A_k^{[L](m)}}$-3.1\"><span class=\"toc-item-num\">3.1&nbsp;&nbsp;</span>Finding $\\ipdv{L^{(m)}}{A_k^{[L](m)}}$ and $\\dd{A_k^{[L](m)}}$</a></span><ul class=\"toc-item\"><li><span><a href=\"#The-cross-entropy-case\" data-toc-modified-id=\"The-cross-entropy-case-3.1.1\"><span class=\"toc-item-num\">3.1.1&nbsp;&nbsp;</span>The cross-entropy case</a></span></li><li><span><a href=\"#The-mean-squared-error-case\" data-toc-modified-id=\"The-mean-squared-error-case-3.1.2\"><span class=\"toc-item-num\">3.1.2&nbsp;&nbsp;</span>The mean squared error case</a></span></li><li><span><a href=\"#Explicit-$\\dd{A_k^{[L](m)}}$\" data-toc-modified-id=\"Explicit-$\\dd{A_k^{[L](m)}}$-3.1.3\"><span class=\"toc-item-num\">3.1.3&nbsp;&nbsp;</span>Explicit $\\dd{A_k^{[L](m)}}$</a></span></li></ul></li><li><span><a href=\"#Finding-$\\ipdv{A_k^{[\\ell](m)}}{Z_h^{[\\ell](m)}}$-and-$\\dd{Z_h^{[\\ell](m)}}$\" data-toc-modified-id=\"Finding-$\\ipdv{A_k^{[\\ell](m)}}{Z_h^{[\\ell](m)}}$-and-$\\dd{Z_h^{[\\ell](m)}}$-3.2\"><span class=\"toc-item-num\">3.2&nbsp;&nbsp;</span>Finding $\\ipdv{A_k^{[\\ell](m)}}{Z_h^{[\\ell](m)}}$ and $\\dd{Z_h^{[\\ell](m)}}$</a></span><ul class=\"toc-item\"><li><span><a href=\"#The-sigmoid-case\" data-toc-modified-id=\"The-sigmoid-case-3.2.1\"><span class=\"toc-item-num\">3.2.1&nbsp;&nbsp;</span>The sigmoid case</a></span></li><li><span><a href=\"#The-softmax-case\" data-toc-modified-id=\"The-softmax-case-3.2.2\"><span class=\"toc-item-num\">3.2.2&nbsp;&nbsp;</span>The softmax case</a></span></li><li><span><a href=\"#The-ReLU-and-leaky-ReLU-case\" data-toc-modified-id=\"The-ReLU-and-leaky-ReLU-case-3.2.3\"><span class=\"toc-item-num\">3.2.3&nbsp;&nbsp;</span>The ReLU and leaky ReLU case</a></span></li><li><span><a href=\"#The-Tanh-case\" data-toc-modified-id=\"The-Tanh-case-3.2.4\"><span class=\"toc-item-num\">3.2.4&nbsp;&nbsp;</span>The Tanh case</a></span></li><li><span><a href=\"#Explicit-$\\dd{Z_h^{[\\ell](m)}}$\" data-toc-modified-id=\"Explicit-$\\dd{Z_h^{[\\ell](m)}}$-3.2.5\"><span class=\"toc-item-num\">3.2.5&nbsp;&nbsp;</span>Explicit $\\dd{Z_h^{[\\ell](m)}}$</a></span></li></ul></li><li><span><a href=\"#Finding-$\\ipdv{Z_h^{[\\ell](m)}}{W_{ij}^{[\\ell]}}$-and-$\\dd{W_{ij}^{[\\ell]}}$\" data-toc-modified-id=\"Finding-$\\ipdv{Z_h^{[\\ell](m)}}{W_{ij}^{[\\ell]}}$-and-$\\dd{W_{ij}^{[\\ell]}}$-3.3\"><span class=\"toc-item-num\">3.3&nbsp;&nbsp;</span>Finding $\\ipdv{Z_h^{[\\ell](m)}}{W_{ij}^{[\\ell]}}$ and $\\dd{W_{ij}^{[\\ell]}}$</a></span><ul class=\"toc-item\"><li><span><a href=\"#Explicit-$\\dd{W_{ij}^{[\\ell]}}$\" data-toc-modified-id=\"Explicit-$\\dd{W_{ij}^{[\\ell]}}$-3.3.1\"><span class=\"toc-item-num\">3.3.1&nbsp;&nbsp;</span>Explicit $\\dd{W_{ij}^{[\\ell]}}$</a></span></li></ul></li><li><span><a href=\"#Finding-$\\ipdv{Z_h^{[\\ell](m)}}{b_{i}^{[\\ell]}}$-and-$\\dd{b_{i}^{[\\ell]}}$\" data-toc-modified-id=\"Finding-$\\ipdv{Z_h^{[\\ell](m)}}{b_{i}^{[\\ell]}}$-and-$\\dd{b_{i}^{[\\ell]}}$-3.4\"><span class=\"toc-item-num\">3.4&nbsp;&nbsp;</span>Finding $\\ipdv{Z_h^{[\\ell](m)}}{b_{i}^{[\\ell]}}$ and $\\dd{b_{i}^{[\\ell]}}$</a></span><ul class=\"toc-item\"><li><span><a href=\"#Explicit-$\\dd{b_i^{[\\ell]}}$\" data-toc-modified-id=\"Explicit-$\\dd{b_i^{[\\ell]}}$-3.4.1\"><span class=\"toc-item-num\">3.4.1&nbsp;&nbsp;</span>Explicit $\\dd{b_i^{[\\ell]}}$</a></span></li></ul></li><li><span><a href=\"#Finding-$\\ipdv{Z_h^{[\\ell](m)}}{A_k^{[\\ell-1](m)}}$-and-$\\dd{A_k^{[\\ell-1](m)}}$\" data-toc-modified-id=\"Finding-$\\ipdv{Z_h^{[\\ell](m)}}{A_k^{[\\ell-1](m)}}$-and-$\\dd{A_k^{[\\ell-1](m)}}$-3.5\"><span class=\"toc-item-num\">3.5&nbsp;&nbsp;</span>Finding $\\ipdv{Z_h^{[\\ell](m)}}{A_k^{[\\ell-1](m)}}$ and $\\dd{A_k^{[\\ell-1](m)}}$</a></span><ul class=\"toc-item\"><li><span><a href=\"#Explicit-$\\dd{A_k^{[\\ell-1](m)}}$\" data-toc-modified-id=\"Explicit-$\\dd{A_k^{[\\ell-1](m)}}$-3.5.1\"><span class=\"toc-item-num\">3.5.1&nbsp;&nbsp;</span>Explicit $\\dd{A_k^{[\\ell-1](m)}}$</a></span></li></ul></li><li><span><a href=\"#Summary-of-our-explicit-expressions\" data-toc-modified-id=\"Summary-of-our-explicit-expressions-3.6\"><span class=\"toc-item-num\">3.6&nbsp;&nbsp;</span>Summary of our explicit expressions</a></span></li></ul></li><li><span><a href=\"#Vectorizing\" data-toc-modified-id=\"Vectorizing-4\"><span class=\"toc-item-num\">4&nbsp;&nbsp;</span>Vectorizing</a></span></li></ul></div>"
   ]
  },
  {
   "cell_type": "markdown",
   "metadata": {},
   "source": [
    "## Stating our functions"
   ]
  },
  {
   "cell_type": "markdown",
   "metadata": {},
   "source": [
    "* \\begin{equation}\n",
    "    J = \\frac{1}{M} \\sum_{m=1}^M L^{(m)}\n",
    "    \\end{equation}\n",
    "  "
   ]
  },
  {
   "cell_type": "markdown",
   "metadata": {},
   "source": [
    "  \n",
    "* \\begin{equation}\n",
    "    L^{(m)} = - \\sum_{q=1}^{n^{[L]}} D_q^{(m)} \\ln A_q^{[L](m)}\n",
    "    \\end{equation}\n",
    "    "
   ]
  },
  {
   "cell_type": "markdown",
   "metadata": {},
   "source": [
    "* \\begin{equation}\n",
    "    A_q^{[\\ell](m)} = \\softmax{Z^{[\\ell](m)}}_q\n",
    "    \\end{equation}"
   ]
  },
  {
   "cell_type": "markdown",
   "metadata": {},
   "source": [
    "* \\begin{equation}\n",
    "    \\softmax{Z^{[\\ell](m)}}_q = \\frac{\\exp{Z_q^{[\\ell](m)}}}{\\sum_{r} \\exp{Z_r^{[\\ell](m)}}}\n",
    "    \\end{equation}"
   ]
  },
  {
   "cell_type": "markdown",
   "metadata": {},
   "source": [
    "* \\begin{equation}\n",
    "    Z_q^{[\\ell](m)} = \\sum_{p=1}^{n^{[\\ell-1]}} W_{qp}^{[\\ell]} A_p^{[\\ell-1](m)} + b_q^{[\\ell]}\n",
    "    \\end{equation}"
   ]
  },
  {
   "cell_type": "markdown",
   "metadata": {},
   "source": [
    "## Finding the recurrence relations"
   ]
  },
  {
   "cell_type": "markdown",
   "metadata": {},
   "source": [
    "### Finding $\\dd{Z_h^{[\\ell](m)}}$"
   ]
  },
  {
   "cell_type": "markdown",
   "metadata": {},
   "source": [
    "The Error function (or Cost function) $J$ measures how our network outputs are close to the desired outputs. The specific way in which $J$ does this measurement is completely irrelevant in deriving the equations for back-propagation. The only important thing is that we can see $J$ as a function of the $A_k^{[L](m)}$. But to obtain $A_k^{[L](m)}$ we needed every $A_k^{[\\ell](m)}$, so we can also see $J$ as a function of every $A_k^{[\\ell](m)}$ , and being so, we know that there exists a derivative $\\pdv{J}{A_k^{[\\ell](m)}}$, which we'll denote by $\\dd{A_k^{[\\ell](m)}}$:\n",
    "\\begin{equation}\n",
    "    \\pdv{J}{A_k^{[\\ell](m)}} \\equiv \\dd{A_k^{[\\ell](m)}}.\n",
    "\\end{equation}"
   ]
  },
  {
   "cell_type": "markdown",
   "metadata": {},
   "source": [
    "To go forward we now must look at the relation between $A^{[\\ell](m)}$ and $Z^{[\\ell](m)}$:\n",
    "\\begin{equation}\n",
    "    A^{[\\ell]} = g^{[\\ell]}(Z^{[\\ell]}),\n",
    "\\end{equation}\n",
    "and the most general assumption we can make is that **the function $g^{[\\ell]}$ doesn't mix the examples**, so that we can treat each example $m$ independently:\n",
    "\\begin{equation}\n",
    "    A^{[\\ell](m)} = g^{[\\ell]}(Z^{[\\ell](m)}).\n",
    "\\end{equation}\n",
    "\n",
    "We won't, however, assume that $g^{[L]}$ treats the componentes of each example independently. **So each $A_k^{[\\ell](m)}$ is a function of the full $Z^{[L](m)}$, i.e. a function of all its elements $Z_h^{[\\ell](m)}$ (take a softmax for example).** Thus we can, now, see $J$ as a function of $A_k^{[\\ell](m)}\\left(Z_h^{[\\ell](m)}\\right)$, and being so we can find the derivative $\\pdv{J}{Z_h^{[\\ell](m)}}$, which we'll denote by $\\dd{Z_h^{[\\ell](m)}}$, and thanks to the chain rule we find that:\n",
    "\\begin{equation}\n",
    "    \\pdv{J}{Z_h^{[\\ell](m)}} = \\sum_{k=1}^{n^{[\\ell]}} \\pdv{J}{A_k^{[\\ell](m)}} \\pdv{A_k^{[\\ell](m)}}{Z_h^{[\\ell](m)}} =  \\sum_{k=1}^{n^{[\\ell]}} \\dd{A_k^{[\\ell](m)}} \\pdv{A_k^{[\\ell](m)}}{Z_h^{[\\ell](m)}} \\equiv \\dd{Z_h^{[\\ell](m)}}.\n",
    "\\end{equation}"
   ]
  },
  {
   "cell_type": "markdown",
   "metadata": {},
   "source": [
    "### Finding $\\dd{W_{ij}^{[\\ell]}}$ and $\\dd{b_{i}^{[\\ell]}}$"
   ]
  },
  {
   "cell_type": "markdown",
   "metadata": {},
   "source": [
    "Recalling that\n",
    "\\begin{equation}\n",
    "    Z_h^{[\\ell](m)} = \\sum_{k=1}^{n^{[\\ell-1]}} W_{hk}^{[\\ell]}A_k^{[\\ell-1](m)} + b_h^{[\\ell]},\n",
    "\\end{equation}"
   ]
  },
  {
   "cell_type": "markdown",
   "metadata": {},
   "source": [
    "we see that every $Z_h^{[\\ell](m)}$ depends on $W_{ij}^{[\\ell]}$. This means we need to see $J$ as a function of the whole set\n",
    "\\begin{equation}\n",
    "    \\bigg\\{Z_h^{[\\ell](m)}(W_{ij}^{[\\ell]})\\bigg\\}_{h,m}.\n",
    "\\end{equation}\n",
    "So in order to find $\\pdv{J}{W_{ij}^{[\\ell]}}$, which we'll denote by $\\dd{W_{ij}^{[\\ell]}}$, by the chain we must account for the entire set of $Z_h^{[\\ell](m)}$, i.e. we have to sum not only over $h$ but also over $m$:"
   ]
  },
  {
   "cell_type": "markdown",
   "metadata": {},
   "source": [
    "\\begin{equation}\n",
    "    \\pdv{J}{W_{ij}^{[\\ell]}} = \\sum_{m=1}^{M} \\sum_{h=1}^{n^{[\\ell]}} \\pdv{J}{Z_h^{[\\ell](m)}} \\pdv{Z_h^{[\\ell](m)}}{W_{ij}^{[\\ell]}} = \\sum_{m=1}^{M} \\sum_{h=1}^{n^{[\\ell]}} \\dd{Z_h^{[\\ell](m)}} \\pdv{Z_h^{[\\ell](m)}}{W_{ij}^{[\\ell]}} \\equiv \\dd{W_{ij}^{[\\ell]}}.\n",
    "\\end{equation}"
   ]
  },
  {
   "cell_type": "markdown",
   "metadata": {},
   "source": [
    "The same goes for $\\pdv{J}{b_{i}^{[\\ell]}}$, which we'll denote by $\\dd{b_{i}^{[\\ell]}}$:"
   ]
  },
  {
   "cell_type": "markdown",
   "metadata": {},
   "source": [
    "\\begin{equation}\n",
    "    \\pdv{J}{b_{i}^{[\\ell]}} = \\sum_{m=1}^{M} \\sum_{h=1}^{n^{[\\ell]}} \\pdv{J}{Z_h^{[\\ell](m)}} \\pdv{Z_h^{[\\ell](m)}}{b_{i}^{[\\ell]}} = \\sum_{m=1}^{M} \\sum_{h=1}^{n^{[\\ell]}} \\dd{Z_h^{[\\ell](m)}} \\pdv{Z_h^{[\\ell](m)}}{b_{i}^{[\\ell]}} \\equiv \\dd{b_{i}^{[\\ell]}}.\n",
    "\\end{equation}"
   ]
  },
  {
   "cell_type": "markdown",
   "metadata": {},
   "source": [
    "Here's what we have so far:\n",
    "\n",
    "Elements|\n",
    "---|\n",
    "$$ \\dd{Z_h^{[\\ell](m)}} = \\sum_{k=1}^{n^{[\\ell]}} \\dd{A_k^{[\\ell](m)}} \\pdv{A_k^{[\\ell](m)}}{Z_h^{[\\ell](m)}} $$|\n",
    "$$ \\dd{W_{ij}^{[\\ell]}} = \\sum_{m=1}^{M} \\sum_{h=1}^{n^{[\\ell]}} \\dd{Z_h^{[\\ell](m)}} \\pdv{Z_h^{[\\ell](m)}}{W_{ij}^{[\\ell]}} $$|\n",
    "$$ \\dd{b_{i}^{[\\ell]}} = \\sum_{m=1}^{M} \\sum_{h=1}^{n^{[\\ell]}} \\dd{Z_h^{[\\ell](m)}} \\pdv{Z_h^{[\\ell](m)}}{b_{i}^{[\\ell]}} $$|"
   ]
  },
  {
   "cell_type": "markdown",
   "metadata": {},
   "source": [
    "### Finding $\\dd{A_k^{[\\ell](m)}}$ and $\\dd{A_k^{[L](m)}}$"
   ]
  },
  {
   "cell_type": "markdown",
   "metadata": {},
   "source": [
    "In deriving the previous equations we just assumed we had $\\dd{A_k^{[\\ell](m)}}$ and started from there. However, to effectively used those equations we need to find an expression for all the $\\dd{A_k^{[\\ell](m)}}$! As always, the starting point has to be: which function is an explicit function of the $A_k^{[\\ell](m)}$? Of course is $Z_h^{[\\ell+1](m)}$, since\n",
    "\\begin{equation}\n",
    "    Z_h^{[\\ell+1](m)} = \\sum_{k=1}^{n^{[\\ell]}} W_{hk}^{[\\ell+1]}A_k^{[\\ell](m)} + b_h^{[\\ell+1]},\n",
    "\\end{equation}\n",
    "so by the chain rule we have:\n",
    "\\begin{equation}\n",
    "    \\pdv{J}{A_k^{[\\ell](m)}} = \\sum_{h=1}^{n^{[\\ell+1]}} \\pdv{J}{Z_h^{[\\ell+1](m)}} \\pdv{Z_h^{[\\ell+1](m)}}{A_k^{[\\ell](m)}} = \\sum_{h=1}^{n^{[\\ell+1]}} \\dd{Z_h^{[\\ell+1](m)}} \\pdv{Z_h^{[\\ell+1](m)}}{A_k^{[\\ell](m)}} \\equiv \\dd{A_k^{[\\ell](m)}}.\n",
    "\\end{equation}"
   ]
  },
  {
   "cell_type": "markdown",
   "metadata": {},
   "source": [
    "There is, however, a detail. The above expression is not valid for $\\ell = L$, since there is no $Z_h^{[L+1](m)}$. To correctly obtain $\\dd{A_k^{[L](m)}}$ we must find which function is an explicit function of $A_k^{[L](m)}$, and the answer is simply $L^{(m)}$, the loss function! So to find the derivative $\\pdv{J}{A_k^{[L](m)}}$, which we'll denote by $\\dd{A_k^{[L](m)}}$, we do:\n",
    "\\begin{equation}\n",
    "    \\pdv{J}{A_k^{[L](m)}} = \\pdv{J}{L^{(m)}} \\pdv{L^{(m)}}{A_k^{[L](m)}} = \\frac{1}{M} \\pdv{L^{(m)}}{A_k^{[L](m)}} \\equiv \\dd{A_k^{[L](m)}}.\n",
    "\\end{equation}"
   ]
  },
  {
   "cell_type": "markdown",
   "metadata": {},
   "source": [
    "Here's what we have so far:\n",
    "\n",
    "Elements |\n",
    "---|\n",
    "$$ \\dd{A_k^{[L](m)}} = \\frac{1}{M} \\pdv{L^{(m)}}{A_k^{[L](m)}}$$|\n",
    "$$ \\dd{Z_h^{[\\ell](m)}} = \\sum_{k=1}^{n^{[\\ell]}} \\dd{A_k^{[\\ell](m)}} \\pdv{A_k^{[\\ell](m)}}{Z_h^{[\\ell](m)}} $$|\n",
    "$$ \\dd{W_{ij}^{[\\ell]}} = \\sum_{m=1}^{M} \\sum_{h=1}^{n^{[\\ell]}} \\dd{Z_h^{[\\ell](m)}} \\pdv{Z_h^{[\\ell](m)}}{W_{ij}^{[\\ell]}} $$|\n",
    "$$ \\dd{b_{i}^{[\\ell]}} = \\sum_{m=1}^{M} \\sum_{h=1}^{n^{[\\ell]}} \\dd{Z_h^{[\\ell](m)}} \\pdv{Z_h^{[\\ell](m)}}{b_{i}^{[\\ell]}} $$|\n",
    "$$ \\dd{A_k^{[\\ell-1](m)}} = \\sum_{h=1}^{n^{[\\ell]}} \\dd{Z_h^{[\\ell](m)}} \\pdv{Z_h^{[\\ell](m)}}{A_k^{[\\ell-1](m)}} $$| "
   ]
  },
  {
   "cell_type": "markdown",
   "metadata": {},
   "source": [
    "### The recurrence relations"
   ]
  },
  {
   "cell_type": "markdown",
   "metadata": {},
   "source": [
    "When implementing the relations above we must watch out for the $\\ell$ indices. We can see that the following is a correct implementation of the recurrence relations."
   ]
  },
  {
   "cell_type": "markdown",
   "metadata": {},
   "source": [
    "We must begin by computing $\\dd{A_k^{[L](m)}}$\n",
    "\\begin{equation}\n",
    "    \\dd{A_k^{[L](m)}} = \\frac{1}{M} \\pdv{L^{(m)}}{A_k^{[L](m)}}\n",
    "\\end{equation}"
   ]
  },
  {
   "cell_type": "markdown",
   "metadata": {},
   "source": [
    "Having $\\dd{A_k^{[L](m)}}$, we can loop on the other recurrence relations, noting that each loop is linked to the next by $\\dd{A_k^{[\\ell-1](m)}}$:\n",
    "\n",
    "\\begin{equation}\n",
    " \\left.\\begin{aligned}\n",
    "        \\dd{Z_h^{[\\ell](m)}} = &\\sum_{k=1}^{n^{[\\ell]}} \\dd{A_k^{[\\ell](m)}} \\pdv{A_k^{[\\ell](m)}}{Z_h^{[\\ell](m)}},\\\\\n",
    "        \\dd{W_{ij}^{[\\ell]}} = \\sum_{m=1}^{M} &\\sum_{h=1}^{n^{[\\ell]}} \\dd{Z_h^{[\\ell](m)}} \\pdv{Z_h^{[\\ell](m)}}{W_{ij}^{[\\ell]}},\\\\\n",
    "        \\dd{b_{i}^{[\\ell]}} = \\sum_{m=1}^{M} &\\sum_{h=1}^{n^{[\\ell]}} \\dd{Z_h^{[\\ell](m)}} \\pdv{Z_h^{[\\ell](m)}}{b_{i}^{[\\ell]}},\\\\\n",
    "        \\dd{A_k^{[\\ell-1](m)}} = &\\sum_{h=1}^{n^{[\\ell]}} \\dd{Z_h^{[\\ell](m)}} \\pdv{Z_h^{[\\ell](m)}}{A_k^{[\\ell-1](m)}}.\n",
    "       \\end{aligned}\n",
    " \\right\\}\n",
    " \\qquad \\text{Loop from} \\qquad \\ell = L \\qquad \\text{to} \\qquad \\ell = 1\n",
    "\\end{equation}"
   ]
  },
  {
   "cell_type": "markdown",
   "metadata": {},
   "source": [
    "## Finding the explicit relations"
   ]
  },
  {
   "cell_type": "markdown",
   "metadata": {},
   "source": [
    "Great! We have our recurrence relations, but now we need to actually compute the following terms:\n",
    "\\begin{equation}\n",
    "    \\pdv{L^{(m)}}{A_k^{[L](m)}},\\qquad \\pdv{A_k^{[\\ell](m)}}{Z_h^{[\\ell](m)}},\\qquad \\pdv{Z_h^{[\\ell](m)}}{W_{ij}^{[\\ell]}},\\qquad \\pdv{Z_h^{[\\ell](m)}}{b_{i}^{[\\ell]}},\\qquad \\pdv{Z_h^{[\\ell](m)}}{A_k^{[\\ell-1](m)}}\n",
    "\\end{equation}"
   ]
  },
  {
   "cell_type": "markdown",
   "metadata": {},
   "source": [
    "### Finding $\\ipdv{L^{(m)}}{A_k^{[L](m)}}$ and $\\dd{A_k^{[L](m)}}$"
   ]
  },
  {
   "cell_type": "markdown",
   "metadata": {},
   "source": [
    "In order to find $\\pdv{L^{(m)}}{A_k^{[L](m)}}$ we need to define a loss function! Here we'll do it with some of the most used loss functions, the cross-entropy (CE):\n",
    "\\begin{equation}\n",
    "    L^{(m)} = CE^{(m)} = - \\sum_{k=1}^{n^{[L]}} D_k^{(m)} \\ln A_k^{[L](m)},\n",
    "\\end{equation}"
   ]
  },
  {
   "cell_type": "markdown",
   "metadata": {},
   "source": [
    "and the mean squared error (MSE):\n",
    "\\begin{equation}\n",
    "    L^{(m)} = MSE^{(m)} = \\frac{1}{n^{[L]}} \\sum_{k=1}^{n^{[L]}} (D_k^{(m)} - A_k^{[L](m)})^2.\n",
    "\\end{equation}"
   ]
  },
  {
   "cell_type": "markdown",
   "metadata": {},
   "source": [
    "#### The cross-entropy case"
   ]
  },
  {
   "cell_type": "markdown",
   "metadata": {},
   "source": [
    "If we are trying do split the examples into pre-defined categorial classes we use the cross-entropy, for which we have:\n",
    "\\begin{equation}\n",
    "    \\pdv{CE^{(m)}}{A_k^{[L](m)}} = - \\frac{D_k^{(m)}}{A_k^{[L](m)}}.\n",
    "\\end{equation}"
   ]
  },
  {
   "cell_type": "markdown",
   "metadata": {},
   "source": [
    "#### The mean squared error case"
   ]
  },
  {
   "cell_type": "markdown",
   "metadata": {},
   "source": [
    "On the other hand, if we are trying to predict real values, like prices or sizes, we use the mean square error, for which we have:\n",
    "\\begin{equation}\n",
    "    \\pdv{MSE^{(m)}}{A_k^{[L](m)}} = \\frac{2}{n^{[L]}} (D_k^{(m)} - A_k^{[L](m)}).\n",
    "\\end{equation}"
   ]
  },
  {
   "cell_type": "markdown",
   "metadata": {},
   "source": [
    "#### Explicit $\\dd{A_k^{[L](m)}}$"
   ]
  },
  {
   "cell_type": "markdown",
   "metadata": {},
   "source": [
    "Given that\n",
    "\\begin{equation}\n",
    "    \\dd{A_k^{[L](m)}} = \\frac{1}{M} \\pdv{L^{(m)}}{A_k^{[L](m)}},\n",
    "\\end{equation}\n",
    "we obtain the following explicit expressions:"
   ]
  },
  {
   "cell_type": "markdown",
   "metadata": {},
   "source": [
    "Expression|\n",
    "---|\n",
    "$\\dd{A_k^{[L](m)}} = -\\frac{1}{M} \\frac{D_k^{(m)}}{A_k^{[L](m)}}$|\n",
    "$\\dd{A_k^{[L](m)}} = \\frac{1}{M}\\frac{2}{n^{[L]}} (D_k^{(m)} - A_k^{[L](m)})$|"
   ]
  },
  {
   "cell_type": "markdown",
   "metadata": {},
   "source": [
    "### Finding $\\ipdv{A_k^{[\\ell](m)}}{Z_h^{[\\ell](m)}}$ and $\\dd{Z_h^{[\\ell](m)}}$"
   ]
  },
  {
   "cell_type": "markdown",
   "metadata": {},
   "source": [
    "In order to obtain $\\pdv{A_k^{[\\ell](m)}}{Z_h^{[\\ell](m)}}$, we need to recall the relation\n",
    "\\begin{equation}\n",
    "    \\Big[ A^{[\\ell](m)} \\Big]_k = \\Big[ g^{[\\ell]}(Z^{[\\ell](m)}) \\Big]_k,\n",
    "\\end{equation}"
   ]
  },
  {
   "cell_type": "markdown",
   "metadata": {},
   "source": [
    "and again there is a special case when $\\ell = L$. The final output has to be of the same type as the desired output, say, a probability, so this last activation function $g^{[L]}$ has to accomplish that. Since all the intermediate outputs are not restricted like that, so we have a larger freedom then. Some common choices for $g^{[L]}$ are a sigmoid function, commonly denoted $\\sigma$:\n",
    "\\begin{equation}\n",
    "    \\Big[ g^{[\\ell]}(Z^{[\\ell](m)}) \\Big]_k = \\sigma(Z_k^{[\\ell](m)}) = \\frac{1}{1+\\lexp{(-Z_k^{[\\ell](m)})}},\n",
    "\\end{equation}"
   ]
  },
  {
   "cell_type": "markdown",
   "metadata": {},
   "source": [
    "and a softmax function, which I'll denote by $\\smax{}$\n",
    "\\begin{equation}\n",
    "    \\Big[ g^{[\\ell]}(Z^{[\\ell](m)}) \\Big]_k = \\Big[ \\smax{Z^{[\\ell](m)}} \\Big]_k = \\frac{\\lexp{(-Z_k^{[\\ell](m)})}}{\\sum_{r=1}^{n^{[\\ell]}} \\lexp{(-Z_r^{[\\ell](m)})}}.\n",
    "\\end{equation}"
   ]
  },
  {
   "cell_type": "markdown",
   "metadata": {},
   "source": [
    "For the intermediate layer two common choices are the ReLU:\n",
    "\\begin{equation}\n",
    "    \\Big[ A^{[\\ell](m)} \\Big]_k = ReLU(Z_k^{[\\ell](m)}) = \\begin{cases}\n",
    "    Z_k^{[\\ell](m)},&\\text{if} \\qquad Z_k^{[\\ell](m)} > 0 \\\\\n",
    "    0,&\\text{if} \\qquad Z_k^{[\\ell](m)} < 0\n",
    "    \\end{cases},\n",
    "\\end{equation}"
   ]
  },
  {
   "cell_type": "markdown",
   "metadata": {},
   "source": [
    "the leaky ReLu, denoted $\\relu_{\\epsilon}$:\n",
    "\\begin{equation}\n",
    "    \\Big[ A^{[\\ell](m)} \\Big]_k = \\relu_{\\epsilon}(Z_k^{[\\ell](m)}) = \\begin{cases}\n",
    "    Z_k^{[\\ell](m)},&\\text{if} \\qquad Z_k^{[\\ell](m)} > 0 \\\\\n",
    "    \\epsilon Z_k^{[\\ell](m)},&\\text{if} \\qquad Z_k^{[\\ell](m)} < 0\n",
    "    \\end{cases},\\qquad\\text{with}\\qquad \\epsilon \\ll 1\n",
    "\\end{equation}"
   ]
  },
  {
   "cell_type": "markdown",
   "metadata": {},
   "source": [
    "#### The sigmoid case"
   ]
  },
  {
   "cell_type": "markdown",
   "metadata": {},
   "source": []
  },
  {
   "cell_type": "markdown",
   "metadata": {},
   "source": [
    "\\begin{equation}\n",
    "    \\pdv{A_k^{[\\ell](m)}}{Z_h^{[\\ell](m)}} = \\pdv{\\,\\sigma(Z_k^{[\\ell](m)})}{Z_h^{[\\ell](m)}} = \\delta_{kh}\\, \\sigma(Z_k^{[\\ell](m)})(1-\\sigma(Z_k^{[\\ell](m)})).\n",
    "\\end{equation}"
   ]
  },
  {
   "cell_type": "markdown",
   "metadata": {},
   "source": [
    "And we write $\\sigma(Z_k^{[\\ell](m)})(1-\\sigma(Z_k^{[\\ell](m)}))$ simply as $\\sigma'(Z_k^{[\\ell](m)})$, so\n",
    "\\begin{equation}\n",
    "    \\pdv{A_k^{[\\ell](m)}}{Z_h^{[\\ell](m)}} = \\delta_{kh} \\sigma'(Z_k^{[\\ell](m)})\n",
    "\\end{equation}"
   ]
  },
  {
   "cell_type": "markdown",
   "metadata": {},
   "source": [
    "#### The softmax case"
   ]
  },
  {
   "cell_type": "markdown",
   "metadata": {},
   "source": []
  },
  {
   "cell_type": "markdown",
   "metadata": {},
   "source": [
    "\\begin{equation}\n",
    "    \\pdv{A_k^{[\\ell](m)}}{Z_h^{[\\ell](m)}} = \\pdv{\\Big[ \\smax{Z^{[\\ell](m)}} \\Big]_k}{Z_h^{[\\ell](m)}} = \\smax{Z^{[\\ell](m)}}_k \\Bigg(\\delta_{kh} - \\smax{Z^{[\\ell](m)}}_h \\Bigg). \n",
    "\\end{equation}"
   ]
  },
  {
   "cell_type": "markdown",
   "metadata": {},
   "source": [
    "#### The ReLU and leaky ReLU case"
   ]
  },
  {
   "cell_type": "markdown",
   "metadata": {},
   "source": []
  },
  {
   "cell_type": "markdown",
   "metadata": {},
   "source": [
    "\\begin{equation}\n",
    "    \\pdv{A_k^{[\\ell](m)}}{Z_h^{[\\ell](m)}} = \\pdv{\\Big[ \\smax{Z^{[L](m)}} \\Big]_k}{Z_h^{[\\ell](m)}} = \\smax{Z^{[L](m)}}_k \\Bigg(\\delta_{kh} - \\smax{Z^{[L](m)}}_h \\Bigg). \n",
    "\\end{equation}"
   ]
  },
  {
   "cell_type": "markdown",
   "metadata": {},
   "source": [
    "#### The Tanh case"
   ]
  },
  {
   "cell_type": "markdown",
   "metadata": {},
   "source": []
  },
  {
   "cell_type": "markdown",
   "metadata": {},
   "source": [
    "\\begin{equation}\n",
    "    \\pdv{A_k^{[\\ell](m)}}{Z_h^{[\\ell](m)}} = \\pdv{\\Big[ \\smax{Z^{[L](m)}} \\Big]_k}{Z_h^{[\\ell](m)}} = \\smax{Z^{[L](m)}}_k \\Bigg(\\delta_{kh} - \\smax{Z^{[L](m)}}_h \\Bigg). \n",
    "\\end{equation}"
   ]
  },
  {
   "cell_type": "markdown",
   "metadata": {},
   "source": [
    "####  Explicit $\\dd{Z_h^{[\\ell](m)}}$"
   ]
  },
  {
   "cell_type": "markdown",
   "metadata": {},
   "source": [
    "Given that\n",
    "\\begin{equation}\n",
    "    \\dd{Z_h^{[\\ell](m)}} = \\sum_{k=1}^{n^{[\\ell]}} \\dd{A_k^{[\\ell](m)}} \\pdv{A_k^{[\\ell](m)}}{Z_h^{[\\ell](m)}},\n",
    "\\end{equation}\n",
    "we obtain the following explicit expressions:"
   ]
  },
  {
   "cell_type": "markdown",
   "metadata": {},
   "source": [
    "Activation function | Element\n",
    "---|---\n",
    "Sigmoid | $\\dd{Z_h^{[\\ell](m)}} = \\dd{A_h^{[\\ell](m)}} \\sigma'(Z_h^{[\\ell](m)})$\n",
    "Softmax | $\\dd{Z_h^{[\\ell](m)}} = \\sum_{k=1}^{n^{[\\ell]}} \\dd{A_k^{[\\ell](m)}} \\smax{Z^{[\\ell](m)}}_k \\Bigg(\\delta_{kh} - \\smax{Z^{[\\ell](m)}}_h \\Bigg)$\n",
    "ReLU |\n",
    "Tanh |"
   ]
  },
  {
   "cell_type": "markdown",
   "metadata": {
    "heading_collapsed": true
   },
   "source": [
    "### Finding $\\ipdv{Z_h^{[\\ell](m)}}{W_{ij}^{[\\ell]}}$ and $\\dd{W_{ij}^{[\\ell]}}$"
   ]
  },
  {
   "cell_type": "markdown",
   "metadata": {
    "hidden": true
   },
   "source": [
    "Compared to the others, obtaining $\\pdv{Z_h^{[\\ell](m)}}{W_{ij}^{[\\ell]}}$ is quite straighforward, just recall that:\n",
    "\\begin{equation}\n",
    "    Z_h^{[\\ell](m)} = \\sum_{k=1}^{n^{[\\ell-1]}} W_{hk}^{[\\ell]}A_k^{[\\ell-1](m)} + b_h^{[\\ell]},\n",
    "\\end{equation}"
   ]
  },
  {
   "cell_type": "markdown",
   "metadata": {
    "hidden": true
   },
   "source": [
    "and then\n",
    "\\begin{equation}\n",
    "    \\pdv{Z_h^{[\\ell](m)}}{W_{ij}^{[\\ell]}} = \\sum_{k=1}^{n^{[\\ell-1]}} \\pdv{W_{hk}^{[\\ell]}}{W_{ij}^{[\\ell]}}A_k^{[\\ell-1](m)} = \\sum_{k=1}^{n^{[\\ell-1]}} \\delta_{ih}\\delta_{jk} A_k^{[\\ell-1](m)} = \\delta_{ih} A_j^{[\\ell-1](m)}.\n",
    "\\end{equation}"
   ]
  },
  {
   "cell_type": "markdown",
   "metadata": {
    "hidden": true
   },
   "source": [
    "#### Explicit $\\dd{W_{ij}^{[\\ell]}}$"
   ]
  },
  {
   "cell_type": "markdown",
   "metadata": {
    "hidden": true
   },
   "source": [
    "Given that\n",
    "\\begin{equation}\n",
    "    \\dd{W_{ij}^{[\\ell]}} = \\sum_{m=1}^{M} \\sum_{h=1}^{n^{[\\ell]}} \\dd{Z_h^{[\\ell](m)}} \\pdv{Z_h^{[\\ell](m)}}{W_{ij}^{[\\ell]}},\n",
    "\\end{equation}\n",
    "we obtain the following explicit expressions:"
   ]
  },
  {
   "cell_type": "markdown",
   "metadata": {
    "hidden": true
   },
   "source": [
    "Expression|\n",
    "---|\n",
    "$\\dd{W_{ij}^{[\\ell]}} = \\sum_{m=1}^M \\dd{Z_i^{[\\ell](m)}} A_j^{[\\ell-1](m)}$ |"
   ]
  },
  {
   "cell_type": "markdown",
   "metadata": {
    "heading_collapsed": true
   },
   "source": [
    "### Finding $\\ipdv{Z_h^{[\\ell](m)}}{b_{i}^{[\\ell]}}$ and $\\dd{b_{i}^{[\\ell]}}$"
   ]
  },
  {
   "cell_type": "markdown",
   "metadata": {
    "hidden": true
   },
   "source": [
    "To obtain $\\pdv{Z_h^{[\\ell](m)}}{b_{i}^{[\\ell]}}$ is as easy as obtaining $\\pdv{Z_h^{[\\ell](m)}}{W_{ij}^{[\\ell]}}$, just recall that:\n",
    "\\begin{equation}\n",
    "    Z_h^{[\\ell](m)} = \\sum_{k=1}^{n^{[\\ell-1]}} W_{hk}^{[\\ell]}A_k^{[\\ell-1](m)} + b_h^{[\\ell]},\n",
    "\\end{equation}"
   ]
  },
  {
   "cell_type": "markdown",
   "metadata": {
    "hidden": true
   },
   "source": [
    "and then\n",
    "\\begin{equation}\n",
    "    \\pdv{Z_h^{[\\ell](m)}}{b_{i}^{[\\ell]}} = \\pdv{b_h^{[\\ell]}}{b_{i}^{[\\ell]}} = \\delta_{ih}.\n",
    "\\end{equation}"
   ]
  },
  {
   "cell_type": "markdown",
   "metadata": {
    "hidden": true
   },
   "source": [
    "#### Explicit $\\dd{b_i^{[\\ell]}}$"
   ]
  },
  {
   "cell_type": "markdown",
   "metadata": {
    "hidden": true
   },
   "source": [
    "Given that\n",
    "\\begin{equation}\n",
    "    \\dd{b_{i}^{[\\ell]}} = \\sum_{m=1}^{M} \\sum_{h=1}^{n^{[\\ell]}} \\dd{Z_h^{[\\ell](m)}} \\pdv{Z_h^{[\\ell](m)}}{b_{i}^{[\\ell]}},\n",
    "\\end{equation}\n",
    "we obtain the following explicit expressions:"
   ]
  },
  {
   "cell_type": "markdown",
   "metadata": {
    "hidden": true
   },
   "source": [
    "Expression|\n",
    "---|\n",
    "$\\dd{b_{i}^{[\\ell]}} = \\sum_{m=1}^M \\dd{Z_i^{[\\ell](m)}}$ |"
   ]
  },
  {
   "cell_type": "markdown",
   "metadata": {
    "heading_collapsed": true
   },
   "source": [
    "### Finding $\\ipdv{Z_h^{[\\ell](m)}}{A_k^{[\\ell-1](m)}}$ and $\\dd{A_k^{[\\ell-1](m)}}$"
   ]
  },
  {
   "cell_type": "markdown",
   "metadata": {
    "hidden": true
   },
   "source": [
    "The key to our recurrence relations is $\\dd{A_k^{[\\ell-1](m)}}$, and computing $\\pdv{Z_h^{[\\ell](m)}}{A_k^{[\\ell-1](m)}}$ is quite easy too, just recall that:\n",
    "\\begin{equation}\n",
    "    Z_h^{[\\ell](m)} = \\sum_{k=1}^{n^{[\\ell-1]}} W_{hk}^{[\\ell]}A_k^{[\\ell-1](m)} + b_h^{[\\ell]},\n",
    "\\end{equation}"
   ]
  },
  {
   "cell_type": "markdown",
   "metadata": {
    "hidden": true
   },
   "source": [
    "and then\n",
    "\\begin{equation}\n",
    "    \\pdv{Z_h^{[\\ell](m)}}{A_k^{[\\ell-1](m)}} = \\sum_{q=1}^{n^{[\\ell-1]}} W_{hq}^{[\\ell]} \\pdv{A_q^{[\\ell-1](m)}}{A_k^{[\\ell-1](m)}} = \\sum_{q=1}^{n^{[\\ell-1]}} W_{hq}^{[\\ell]} \\delta_{qk} = W_{hk}^{[\\ell]}.\n",
    "\\end{equation}"
   ]
  },
  {
   "cell_type": "markdown",
   "metadata": {
    "hidden": true
   },
   "source": [
    "#### Explicit $\\dd{A_k^{[\\ell-1](m)}}$"
   ]
  },
  {
   "cell_type": "markdown",
   "metadata": {
    "hidden": true
   },
   "source": [
    "Given that\n",
    "\\begin{equation}\n",
    "    \\dd{A_k^{[\\ell-1](m)}} = \\sum_{h=1}^{n^{[\\ell]}} \\dd{Z_h^{[\\ell](m)}} \\pdv{Z_h^{[\\ell](m)}}{A_k^{[\\ell-1](m)}},\n",
    "\\end{equation}\n",
    "we obtain the following explicit expressions:"
   ]
  },
  {
   "cell_type": "markdown",
   "metadata": {
    "hidden": true
   },
   "source": [
    "Expression|\n",
    "---|\n",
    "$\\dd{A_k^{[\\ell-1](m)}} = \\sum_{h=1}^{n^{[\\ell]}} \\dd{Z_h^{[\\ell](m)}} W_{hk}^{[\\ell]}$ |"
   ]
  },
  {
   "cell_type": "markdown",
   "metadata": {},
   "source": [
    "### Summary of our explicit expressions"
   ]
  },
  {
   "cell_type": "markdown",
   "metadata": {},
   "source": [
    "Case | Expression\n",
    "---|---\n",
    "Cross-entropy | $\\dd{A_k^{[L](m)}} = -\\frac{1}{M} \\frac{D_k^{(m)}}{A_k^{[L](m)}}$\n",
    "Mean squared error | $\\dd{A_k^{[L](m)}} = \\frac{1}{M}\\frac{2}{n^{[L]}} (D_k^{(m)} - A_k^{[L](m)})$\n",
    "\n",
    "Case | Expression\n",
    "---|---\n",
    "Sigmoid | $\\dd{Z_h^{[\\ell](m)}} = \\dd{A_h^{[\\ell](m)}} \\sigma(Z_h^{[\\ell](m)})(1-\\sigma(Z_h^{[\\ell](m)}))$\n",
    "Softmax | $\\dd{Z_h^{[\\ell](m)}} = \\sum_{k=1}^{n^{[\\ell]}} \\dd{A_k^{[\\ell](m)}} \\smax{Z^{[\\ell](m)}}_k \\Bigg(\\delta_{kh} - \\smax{Z^{[\\ell](m)}}_h \\Bigg)$\n",
    "ReLU |\n",
    "Tanh |\n",
    "\n",
    "Expression|\n",
    "---|\n",
    "$\\dd{W_{ij}^{[\\ell]}} = \\sum_{m=1}^M \\dd{Z_i^{[\\ell](m)}} A_j^{[\\ell-1](m)}$ |\n",
    "$\\dd{b_{i}^{[\\ell]}} = \\sum_{m=1}^M \\dd{Z_i^{[\\ell](m)}}$ |\n",
    "$\\dd{A_k^{[\\ell-1](m)}} = \\sum_{h=1}^{n^{[\\ell]}} \\dd{Z_h^{[\\ell](m)}} W_{hk}^{[\\ell]}$ |"
   ]
  },
  {
   "cell_type": "markdown",
   "metadata": {},
   "source": [
    "## Vectorizing"
   ]
  },
  {
   "cell_type": "markdown",
   "metadata": {},
   "source": [
    "When implementing back-propagation it's much more efficient to find the $\\dd{A_k^{[L](m)}}$, $\\dd{Z_h^{[\\ell](m)}}$, $\\dd{W_{ij}^{[\\ell]}}$, $\\dd{b_{i}^{[\\ell]}}$, and $\\dd{A_k^{[\\ell-1](m)}}$ all at once, and we can do that! We start by stacking all the $A_k^{[\\ell](m)}$ into a matrix $A^{[\\ell]}$ of shape $(n^{[\\ell]}, M)$ and all the $D_k^{(m)}$ into a matrix $D$ of shape $(n^{[\\ell]}, M)$. If we also stack all the $\\dd{A_k^{[L](m)}}$ into a matrix $\\dd{A^{[L]}}$ of shape $(n^{[\\ell]}, M)$ we see that the following holds:\n",
    "\n",
    "\\begin{equation}\n",
    "    \\dd{A^{[L]}} = \\left\\{\n",
    "    \\begin{aligned}\n",
    "        - \\frac{1}{M} D\\oslash A^{[L]}&, \\text{when using cross-entropy},\\\\\n",
    "        \\frac{2}{n^{[L]}M}(D-A^{[L]})&, \\text{when using mean squared error}\n",
    "    \\end{aligned} \\right.\n",
    "\\end{equation}"
   ]
  },
  {
   "cell_type": "markdown",
   "metadata": {},
   "source": [
    "If we say that $\\dd{W_{ij}^{[\\ell]}} = \\Big(\\dd{W^{[\\ell]}}\\Big)_{ij}$, where $\\dd{W^{[\\ell]}}$ is a matrix of shape $(n^{[\\ell]}, n^{[\\ell-1]})$, then, by inspection, we can see that the following holds:\n",
    "\\begin{equation}\n",
    "    \\dd{W^{[\\ell]}} = \\dd{Z^{[\\ell]}} A^{[\\ell-1]\\, T}.\n",
    "\\end{equation}"
   ]
  },
  {
   "cell_type": "markdown",
   "metadata": {},
   "source": [
    "Analogously, if we say that $\\dd{b_i^{[\\ell]}} = \\Big(\\dd{b^{[\\ell]}}\\Big)_i$ then\n",
    "\\begin{equation}\n",
    "    \\dd{b^{[\\ell]}} = \\dd{Z^{[\\ell]}} 1_{M,1}.\n",
    "\\end{equation}"
   ]
  },
  {
   "cell_type": "markdown",
   "metadata": {},
   "source": [
    "Lastly, if we say that $\\dd{A_k^{[\\ell-1](m)}} = \\Big(\\dd{A^{[\\ell-1]}}\\Big)_k^{(m)}$ we can see that\n",
    "\\begin{equation}\n",
    "    \\dd{A^{[\\ell-1]}} = W^{[\\ell]\\, T} \\dd{Z^{[\\ell]}}\n",
    "\\end{equation}"
   ]
  },
  {
   "cell_type": "markdown",
   "metadata": {},
   "source": [
    "If we say that $\\dd{Z_h^{[\\ell](m)}} = \\Big(\\dd{Z^{[\\ell]}}\\Big)_h^{(m)}$, where $\\dd{Z^{[\\ell]}}$ is a matrix of shape $(n^{[\\ell]}, M)$, then, by inspection, we can see that the following holds:"
   ]
  },
  {
   "cell_type": "markdown",
   "metadata": {},
   "source": [
    "\\begin{equation}\n",
    "    \\dd{Z^{[\\ell]}} = \\dd{A^{[\\ell]}} \\odot \\sigma'(Z^{[\\ell]})\n",
    "\\end{equation}"
   ]
  },
  {
   "cell_type": "markdown",
   "metadata": {},
   "source": [
    "Activation function | Element\n",
    "---|---\n",
    "Sigmoid | $    \\dd{Z^{[\\ell]}} = \\dd{A^{[\\ell]}} \\odot \\sigma'(Z^{[\\ell]})$\n",
    "Softmax | $\\dd{Z^{[\\ell]}} = \\dd{A^{[\\ell]}} \\odot \\smax{Z^{[\\ell]}} - \\diag\\Big(\\dd{A^{[\\ell]\\, T}}@ S^{[\\ell]}\\Big)*S^{[\\ell]}$"
   ]
  },
  {
   "cell_type": "markdown",
   "metadata": {},
   "source": [
    "\\begin{equation}\n",
    "    \\dd{Z_h^{[\\ell](m)}} = \\sum_{k=1}^{n^{[\\ell]}} \\dd{A_k^{[\\ell](m)}} \\smax{Z^{[\\ell](m)}}_k \\delta_{kh} - \\sum_{k=1}^{n^{[\\ell]}} \\dd{A_k^{[\\ell](m)}} \\smax{Z^{[\\ell](m)}}_k \\smax{Z^{[L](m)}}_h\n",
    "\\end{equation}"
   ]
  },
  {
   "cell_type": "markdown",
   "metadata": {},
   "source": [
    "\\begin{equation}\n",
    "    \\dd{Z_h^{[\\ell](m)}} = \\dd{A_h^{[\\ell](m)}} \\smax{Z^{[\\ell](m)}}_h  - \\sum_{k=1}^{n^{[\\ell]}} \\dd{A_k^{[\\ell](m)}} \\smax{Z^{[\\ell](m)}}_k \\smax{Z^{[\\ell](m)}}_h \n",
    "\\end{equation}"
   ]
  },
  {
   "cell_type": "markdown",
   "metadata": {},
   "source": [
    "\\begin{equation}\n",
    "    \\dd{Z^{[\\ell]}} = \\dd{A^{[\\ell]}} \\odot \\smax{Z^{[\\ell]}} - \\diag\\Big(\\dd{A^{[\\ell]\\, T}}@ S^{[\\ell]}\\Big)*S^{[\\ell]}\n",
    "\\end{equation}"
   ]
  },
  {
   "cell_type": "markdown",
   "metadata": {},
   "source": [
    "\\begin{equation}\n",
    "    \\Bigg[\\sum_{k=1}^{n^{[\\ell]}} \\dd{A_k^{[\\ell](m)}} \\smax{Z^{[\\ell](m)}}_k \\Bigg] \\smax{Z^{[\\ell](m)}}_h \n",
    "\\end{equation}"
   ]
  },
  {
   "cell_type": "markdown",
   "metadata": {},
   "source": [
    "\\begin{equation}\n",
    "    \\diag\\Big(\\dd{A^{[\\ell]\\, T}}@ S^{[\\ell]}\\Big)*S^{[\\ell]}\n",
    "\\end{equation}"
   ]
  },
  {
   "cell_type": "markdown",
   "metadata": {},
   "source": [
    "\\begin{equation}\n",
    "    \\sum_{k=1}^{n^{[\\ell]}} \\dd{A_k^{[\\ell](m)}} \\smax{Z^{[\\ell](m)}}_k \\smax{Z^{[\\ell](m)}}_h \n",
    "\\end{equation}"
   ]
  },
  {
   "cell_type": "markdown",
   "metadata": {},
   "source": [
    "\\begin{equation}\n",
    "    S^{[\\ell](m)} = \\smax{Z^{[\\ell](m)}}\\smax{Z^{[\\ell](m)\\, T}}\n",
    "\\end{equation}"
   ]
  },
  {
   "cell_type": "markdown",
   "metadata": {},
   "source": [
    "\\begin{equation}\n",
    "    \\sum_{k=1}^{n^{[\\ell]}} \\dd{A_k^{[\\ell](m)}} S_{kh}^{[\\ell](m)} = (S^{[\\ell](m)} \\dd{A^{[\\ell](m)}} )_h\n",
    "\\end{equation}"
   ]
  },
  {
   "cell_type": "code",
   "execution_count": null,
   "metadata": {},
   "outputs": [],
   "source": []
  }
 ],
 "metadata": {
  "kernelspec": {
   "display_name": "Python 3",
   "language": "python",
   "name": "python3"
  },
  "language_info": {
   "codemirror_mode": {
    "name": "ipython",
    "version": 3
   },
   "file_extension": ".py",
   "mimetype": "text/x-python",
   "name": "python",
   "nbconvert_exporter": "python",
   "pygments_lexer": "ipython3",
   "version": "3.6.7"
  },
  "toc": {
   "base_numbering": 1,
   "nav_menu": {},
   "number_sections": true,
   "sideBar": true,
   "skip_h1_title": true,
   "title_cell": "Contents",
   "title_sidebar": "Contents",
   "toc_cell": true,
   "toc_position": {},
   "toc_section_display": true,
   "toc_window_display": false
  },
  "varInspector": {
   "cols": {
    "lenName": 16,
    "lenType": 16,
    "lenVar": 40
   },
   "kernels_config": {
    "python": {
     "delete_cmd_postfix": "",
     "delete_cmd_prefix": "del ",
     "library": "var_list.py",
     "varRefreshCmd": "print(var_dic_list())"
    },
    "r": {
     "delete_cmd_postfix": ") ",
     "delete_cmd_prefix": "rm(",
     "library": "var_list.r",
     "varRefreshCmd": "cat(var_dic_list()) "
    }
   },
   "types_to_exclude": [
    "module",
    "function",
    "builtin_function_or_method",
    "instance",
    "_Feature"
   ],
   "window_display": false
  }
 },
 "nbformat": 4,
 "nbformat_minor": 2
}

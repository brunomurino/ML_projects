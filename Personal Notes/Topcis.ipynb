{
 "cells": [
  {
   "cell_type": "markdown",
   "metadata": {},
   "source": [
    "# Deep Neural Networks\n",
    "<hr>\n",
    "I guess the general cases I should try and elucidade are multi-class cases, such as softmax regression and multi-task learning.\n",
    "\n",
    "* Discuss general cost function\n",
    "* Discuss and derive back propagation"
   ]
  },
  {
   "cell_type": "markdown",
   "metadata": {},
   "source": [
    "# Improving Deep Neural Networks\n",
    "\n",
    "<hr>\n",
    "\n",
    "* Initialization of parameters\n",
    "* Regularization techniques\n",
    "    * Norm Regularization\n",
    "    * Dropout\n",
    "* Normalizing inputs\n",
    "* Gradient Checking\n",
    "\n",
    "* Mini-batch Gradient Descent\n",
    "* Exponentially Weighted Average\n",
    "* Momentum\n",
    "* RMSprop\n",
    "* Adam\n",
    "* Learning Rate decay\n",
    "\n",
    "* Hyperparameter Tuning\n",
    "* Batch Normalization"
   ]
  },
  {
   "cell_type": "markdown",
   "metadata": {},
   "source": [
    "# Structuring ML Projects"
   ]
  }
 ],
 "metadata": {
  "kernelspec": {
   "display_name": "Python 3",
   "language": "python",
   "name": "python3"
  },
  "language_info": {
   "codemirror_mode": {
    "name": "ipython",
    "version": 3
   },
   "file_extension": ".py",
   "mimetype": "text/x-python",
   "name": "python",
   "nbconvert_exporter": "python",
   "pygments_lexer": "ipython3",
   "version": "3.7.0"
  }
 },
 "nbformat": 4,
 "nbformat_minor": 2
}

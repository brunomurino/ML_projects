{
 "cells": [
  {
   "cell_type": "markdown",
   "metadata": {},
   "source": [
    "# Shapesdata"
   ]
  },
  {
   "cell_type": "code",
   "execution_count": 1,
   "metadata": {},
   "outputs": [],
   "source": [
    "from PIL import Image\n",
    "import matplotlib.pyplot as plt\n",
    "import numpy as np"
   ]
  },
  {
   "cell_type": "code",
   "execution_count": 55,
   "metadata": {},
   "outputs": [],
   "source": [
    "def load_images():\n",
    "    \"\"\"\n",
    "    Arguments:\n",
    "    None\n",
    "    \n",
    "    Returns:\n",
    "    images -- three numpy arrays of shape (100, 28,28,3), one for each shape (circle, square, triangle)\n",
    "    \"\"\"\n",
    "\n",
    "    folder = \"shapes/\"\n",
    "    filename = \"drawing\"\n",
    "    extension = \".png\"\n",
    "\n",
    "    circles = np.empty((0, 28, 28, 3))\n",
    "    squares = np.empty((0, 28, 28, 3))\n",
    "    triangles = np.empty((0, 28, 28, 3))\n",
    "\n",
    "    for i in range(1,101):\n",
    "        file_path = folder + \"circles/\" + filename + \"(\" + str(i) + \")\" + extension\n",
    "\n",
    "        img = Image.open(file_path)\n",
    "        raw = np.asarray(img)\n",
    "        raw = raw[np.newaxis, :]\n",
    "        circles = np.append(circles, raw, axis = 0)\n",
    "        \n",
    "        file_path = folder + \"squares/\" + filename + \"(\" + str(i) + \")\" + extension\n",
    "\n",
    "        img = Image.open(file_path)\n",
    "        raw = np.asarray(img)\n",
    "        raw = raw[np.newaxis, :]\n",
    "        squares = np.append(squares, raw, axis = 0)\n",
    "        \n",
    "        file_path = folder + \"triangles/\" + filename + \"(\" + str(i) + \")\" + extension\n",
    "\n",
    "        img = Image.open(file_path)\n",
    "        raw = np.asarray(img)\n",
    "        raw = raw[np.newaxis, :]\n",
    "        triangles = np.append(triangles, raw, axis = 0)\n",
    "\n",
    "    return circles, squares, triangles"
   ]
  },
  {
   "cell_type": "code",
   "execution_count": 56,
   "metadata": {},
   "outputs": [
    {
     "data": {
      "text/plain": [
       "(100, 28, 28, 3)"
      ]
     },
     "execution_count": 56,
     "metadata": {},
     "output_type": "execute_result"
    }
   ],
   "source": [
    "circles, squares, triangles = load_images()\n",
    "circles.shape"
   ]
  },
  {
   "cell_type": "code",
   "execution_count": 61,
   "metadata": {},
   "outputs": [],
   "source": [
    "def split_set(data, splits = [.7, .85]):\n",
    "    \"\"\"\n",
    "    Arguments:\n",
    "        data -- list to be splitted\n",
    "        splits -- array of splitting points. Ex.: [.7, .85] will split in two points producing three sets.\n",
    "    \n",
    "    Returns:\n",
    "        list of sets: (train_set, dev_set, test_set)\n",
    "    \"\"\"\n",
    "    \n",
    "    np.random.seed(42)\n",
    "    np.random.shuffle(data)\n",
    "    \n",
    "    train_set = data[:70]\n",
    "    dev_set = data[70:]\n",
    "    test_set = []\n",
    "    \n",
    "#     np.random.seed(42)\n",
    "#     rand = np.random.rand((len(data)))\n",
    "    \n",
    "#     bool_selector_train = rand < splits[0]\n",
    "#     train_set = data[bool_selector_train]\n",
    "    \n",
    "#     bool_selector_dev = (splits[0] < rand) & (rand < splits[1])\n",
    "#     dev_set = data[bool_selector_dev]\n",
    "    \n",
    "#     bool_selector_test = splits[1] < rand\n",
    "#     test_set = data[bool_selector_test]\n",
    "    \n",
    "    return (train_set, dev_set, test_set)"
   ]
  },
  {
   "cell_type": "code",
   "execution_count": 161,
   "metadata": {},
   "outputs": [],
   "source": [
    "def load_data():\n",
    "    \n",
    "    circles, squares, triangles = load_images()  \n",
    "    circles_label = np.full((100,), \"circle\")\n",
    "    squares_label = np.full((100,), \"square\")\n",
    "    triangles_label = np.full((100,), \"triangle\")\n",
    "    \n",
    "    circles_train_x, circles_dev_x, circles_test_x = split_set(circles)\n",
    "    circles_train_y, circles_dev_y, circles_test_y = split_set(circles_label)\n",
    "    \n",
    "    squares_train_x, squares_dev_x, squares_test_x = split_set(squares)\n",
    "    squares_train_y, squares_dev_y, squares_test_y = split_set(squares_label)\n",
    "    \n",
    "    triangles_train_x, triangles_dev_x, triangles_test_x = split_set(triangles)\n",
    "    triangles_train_y, triangles_dev_y, triangles_test_y = split_set(triangles_label)\n",
    "    \n",
    "    train_x = np.concatenate([circles_train_x, squares_train_x, triangles_train_x], axis=0)\n",
    "    train_y = np.concatenate([circles_train_y, squares_train_y, triangles_train_y], axis=0)\n",
    "    \n",
    "    dev_x = np.concatenate([circles_dev_x, squares_dev_x, triangles_dev_x], axis=0)\n",
    "    dev_y = np.concatenate([circles_dev_y, squares_dev_y, triangles_dev_y], axis=0)\n",
    "    \n",
    "    test_x = np.concatenate([circles_test_x, squares_test_x, triangles_test_x], axis=0)\n",
    "    test_y = np.concatenate([circles_test_y, squares_test_y, triangles_test_y], axis=0)\n",
    "    \n",
    "    np.random.seed(42)\n",
    "    \n",
    "    p = np.random.permutation(len(train_x))\n",
    "    train_x = train_x[p]\n",
    "    train_y = train_y[p]\n",
    "    train_y = train_y[:, np.newaxis]\n",
    "    \n",
    "    p = np.random.permutation(len(dev_x))\n",
    "    dev_x = dev_x[p]\n",
    "    dev_y = dev_y[p]\n",
    "    dev_y = dev_y[:, np.newaxis]\n",
    "    \n",
    "    p = np.random.permutation(len(test_x))\n",
    "    test_x = test_x[p]\n",
    "    test_y = test_y[p]\n",
    "    test_y = test_y[:, np.newaxis]\n",
    "\n",
    "\n",
    "    \n",
    "    return (train_x, train_y, dev_x, dev_y, test_x, test_y)\n",
    "\n",
    "# train_x, train_y, dev_x, dev_y, test_x, test_y = load_data()\n",
    "\n",
    "# print(test_x.shape)"
   ]
  },
  {
   "cell_type": "code",
   "execution_count": 159,
   "metadata": {},
   "outputs": [],
   "source": [
    "def print_img(array, array_label, index):\n",
    "    plt.imshow((array[index]).astype(np.uint8))\n",
    "    print(\"This is a {}\".format(array_label[index]))\n",
    "    \n",
    "# print_img(dev_x, dev_y, 65)"
   ]
  },
  {
   "cell_type": "code",
   "execution_count": null,
   "metadata": {},
   "outputs": [],
   "source": []
  }
 ],
 "metadata": {
  "kernelspec": {
   "display_name": "Python 3",
   "language": "python",
   "name": "python3"
  },
  "language_info": {
   "codemirror_mode": {
    "name": "ipython",
    "version": 3
   },
   "file_extension": ".py",
   "mimetype": "text/x-python",
   "name": "python",
   "nbconvert_exporter": "python",
   "pygments_lexer": "ipython3",
   "version": "3.7.0"
  }
 },
 "nbformat": 4,
 "nbformat_minor": 2
}

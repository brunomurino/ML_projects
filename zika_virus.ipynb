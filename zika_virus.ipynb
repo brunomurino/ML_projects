{
    "metadata": {
        "language_info": {
            "codemirror_mode": {
                "name": "ipython", 
                "version": 3
            }, 
            "name": "python", 
            "mimetype": "text/x-python", 
            "nbconvert_exporter": "python", 
            "file_extension": ".py", 
            "version": "3.5.4", 
            "pygments_lexer": "ipython3"
        }, 
        "kernelspec": {
            "name": "python3", 
            "display_name": "Python 3.5 with Spark", 
            "language": "python3"
        }
    }, 
    "cells": [
        {
            "source": "! rm aegypti_albopictus.csv*\n! wget https://raw.githubusercontent.com/brunomurino/ML_projects/master/datasets/aegypti_albopictus.csv\n    \nzika_virus = spark.read.load(\"aegypti_albopictus.csv\", # <class 'pyspark.sql.dataframe.DataFrame'>\n                    format='csv', \n                    header='true',\n                    inferSchema='true')\n\nzika_virus.createOrReplaceTempView('zika_virus')\nspark.catalog.listTables()\n", 
            "execution_count": 7, 
            "metadata": {}, 
            "cell_type": "code", 
            "outputs": [
                {
                    "name": "stdout", 
                    "output_type": "stream", 
                    "text": "--2018-11-01 08:53:11--  https://raw.githubusercontent.com/brunomurino/ML_projects/master/datasets/aegypti_albopictus.csv\nResolving raw.githubusercontent.com (raw.githubusercontent.com)... 151.101.36.133\nConnecting to raw.githubusercontent.com (raw.githubusercontent.com)|151.101.36.133|:443... connected.\nHTTP request sent, awaiting response... 200 OK\nLength: 3406779 (3.2M) [text/plain]\nSaving to: 'aegypti_albopictus.csv'\n\naegypti_albopictus. 100%[===================>]   3.25M  --.-KB/s    in 0.1s    \n\n2018-11-01 08:53:11 (23.6 MB/s) - 'aegypti_albopictus.csv' saved [3406779/3406779]\n\n"
                }, 
                {
                    "execution_count": 7, 
                    "metadata": {}, 
                    "data": {
                        "text/plain": "[Table(name='zika_virus', database=None, description=None, tableType='TEMPORARY', isTemporary=True)]"
                    }, 
                    "output_type": "execute_result"
                }
            ]
        }, 
        {
            "source": "zika_virus.printSchema()", 
            "execution_count": 8, 
            "metadata": {}, 
            "cell_type": "code", 
            "outputs": [
                {
                    "name": "stdout", 
                    "output_type": "stream", 
                    "text": "root\n |-- VECTOR: string (nullable = true)\n |-- OCCURRENCE_ID: integer (nullable = true)\n |-- SOURCE_TYPE: string (nullable = true)\n |-- LOCATION_TYPE: string (nullable = true)\n |-- POLYGON_ADMIN: string (nullable = true)\n |-- Y: double (nullable = true)\n |-- X: double (nullable = true)\n |-- YEAR: string (nullable = true)\n |-- COUNTRY: string (nullable = true)\n |-- COUNTRY_ID: string (nullable = true)\n |-- GAUL_AD0: integer (nullable = true)\n |-- STATUS: string (nullable = true)\n\n"
                }
            ]
        }, 
        {
            "source": "", 
            "execution_count": null, 
            "metadata": {}, 
            "cell_type": "code", 
            "outputs": []
        }
    ], 
    "nbformat": 4, 
    "nbformat_minor": 1
}
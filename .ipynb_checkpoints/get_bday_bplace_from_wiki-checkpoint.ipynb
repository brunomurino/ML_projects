{
 "cells": [
  {
   "cell_type": "code",
   "execution_count": 1,
   "metadata": {},
   "outputs": [],
   "source": [
    "# Import packages\n",
    "import requests\n",
    "from bs4 import BeautifulSoup\n",
    "import wikipedia\n",
    "import re"
   ]
  },
  {
   "cell_type": "code",
   "execution_count": 51,
   "metadata": {},
   "outputs": [],
   "source": [
    "def get_birthplace(name):\n",
    "    wikipedia_url = wikipedia.page(name).url\n",
    "    print(wikipedia_url)\n",
    "    req = requests.get(wikipedia_url)\n",
    "    html_doc = req.text\n",
    "    soup = BeautifulSoup(html_doc)\n",
    "    \n",
    "    infobox = soup.find('table', {\"class\": \"infobox\"})\n",
    "    \n",
    "    bday_raw = infobox.find('span', {\"class\":'bday'})\n",
    "    print(bday_raw)\n",
    "#     bday = [re.sub('<.*?>', \"\", str(i)) for i in bday_raw][0]\n",
    "    \n",
    "#     bplace_raw = infobox.find('span', {\"class\": 'birthplace'})\n",
    "    \n",
    "#     bplace_list = [re.sub('<.*?>', \"\", str(i)) for i in bplace_raw]\n",
    "    \n",
    "#     bplace = ''.join(bplace_list)\n",
    "    \n",
    "#     roles = infobox.find('td', {\"class\": 'role'})\n",
    "#     return print(bday, bplace)"
   ]
  },
  {
   "cell_type": "code",
   "execution_count": 35,
   "metadata": {},
   "outputs": [
    {
     "name": "stdout",
     "output_type": "stream",
     "text": [
      "Angelina Jolie\n",
      "1975-06-04 Los Angeles, California, U.S.\n"
     ]
    }
   ],
   "source": [
    "get_birthplace(\"Angelina Jolie\")"
   ]
  },
  {
   "cell_type": "code",
   "execution_count": 36,
   "metadata": {},
   "outputs": [
    {
     "name": "stdout",
     "output_type": "stream",
     "text": [
      "Brad Pitt\n",
      "1963-12-18 Shawnee, Oklahoma, U.S.\n"
     ]
    }
   ],
   "source": [
    "get_birthplace(\"Brad Pitt\")"
   ]
  },
  {
   "cell_type": "code",
   "execution_count": 37,
   "metadata": {},
   "outputs": [
    {
     "name": "stdout",
     "output_type": "stream",
     "text": [
      "Jackie Chan\n",
      "1954-04-07 Victoria Peak, British Hong Kong\n"
     ]
    }
   ],
   "source": [
    "get_birthplace(\"Jackie Chan\")"
   ]
  },
  {
   "cell_type": "code",
   "execution_count": 39,
   "metadata": {},
   "outputs": [
    {
     "name": "stdout",
     "output_type": "stream",
     "text": [
      "Nicole Kidman\n",
      "1967-06-20 Honolulu, Hawaii, U.S.\n"
     ]
    }
   ],
   "source": [
    "get_birthplace(\"Nicole Kidman\")"
   ]
  },
  {
   "cell_type": "code",
   "execution_count": 40,
   "metadata": {},
   "outputs": [
    {
     "name": "stdout",
     "output_type": "stream",
     "text": [
      "Nicolas Cage\n",
      "1964-01-07 Long Beach, California, U.S.\n"
     ]
    }
   ],
   "source": [
    "get_birthplace(\"Nicolas Cage\")"
   ]
  },
  {
   "cell_type": "code",
   "execution_count": 41,
   "metadata": {},
   "outputs": [
    {
     "name": "stdout",
     "output_type": "stream",
     "text": [
      "Emma Watson\n",
      "1990-04-15 Paris, France\n"
     ]
    }
   ],
   "source": [
    "get_birthplace(\"Emma Watson\")"
   ]
  },
  {
   "cell_type": "code",
   "execution_count": 44,
   "metadata": {},
   "outputs": [
    {
     "name": "stdout",
     "output_type": "stream",
     "text": [
      "Albert Einstein\n",
      "1879-03-14 Ulm, Kingdom of Württemberg, German Empire\n"
     ]
    }
   ],
   "source": [
    "get_birthplace(\"Albert Einstein\")"
   ]
  },
  {
   "cell_type": "code",
   "execution_count": 48,
   "metadata": {},
   "outputs": [
    {
     "name": "stdout",
     "output_type": "stream",
     "text": [
      "Eddie Redmayne\n",
      "1982-01-06 London, England\n"
     ]
    }
   ],
   "source": [
    "get_birthplace('Eddie Redmayne')"
   ]
  },
  {
   "cell_type": "code",
   "execution_count": 52,
   "metadata": {},
   "outputs": [
    {
     "name": "stdout",
     "output_type": "stream",
     "text": [
      "https://en.wikipedia.org/wiki/J._K._Rowling\n"
     ]
    },
    {
     "ename": "TypeError",
     "evalue": "'NoneType' object is not iterable",
     "output_type": "error",
     "traceback": [
      "\u001b[0;31m---------------------------------------------------------------------------\u001b[0m",
      "\u001b[0;31mTypeError\u001b[0m                                 Traceback (most recent call last)",
      "\u001b[0;32m<ipython-input-52-fbd541258b0d>\u001b[0m in \u001b[0;36m<module>\u001b[0;34m()\u001b[0m\n\u001b[0;32m----> 1\u001b[0;31m \u001b[0mget_birthplace\u001b[0m\u001b[0;34m(\u001b[0m\u001b[0;34m'J. K. Rowling'\u001b[0m\u001b[0;34m)\u001b[0m\u001b[0;34m\u001b[0m\u001b[0m\n\u001b[0m",
      "\u001b[0;32m<ipython-input-51-beccb6abf686>\u001b[0m in \u001b[0;36mget_birthplace\u001b[0;34m(name)\u001b[0m\n\u001b[1;32m     13\u001b[0m     \u001b[0mbplace_raw\u001b[0m \u001b[0;34m=\u001b[0m \u001b[0minfobox\u001b[0m\u001b[0;34m.\u001b[0m\u001b[0mfind\u001b[0m\u001b[0;34m(\u001b[0m\u001b[0;34m'span'\u001b[0m\u001b[0;34m,\u001b[0m \u001b[0;34m{\u001b[0m\u001b[0;34m\"class\"\u001b[0m\u001b[0;34m:\u001b[0m \u001b[0;34m'birthplace'\u001b[0m\u001b[0;34m}\u001b[0m\u001b[0;34m)\u001b[0m\u001b[0;34m\u001b[0m\u001b[0m\n\u001b[1;32m     14\u001b[0m \u001b[0;34m\u001b[0m\u001b[0m\n\u001b[0;32m---> 15\u001b[0;31m     \u001b[0mbplace_list\u001b[0m \u001b[0;34m=\u001b[0m \u001b[0;34m[\u001b[0m\u001b[0mre\u001b[0m\u001b[0;34m.\u001b[0m\u001b[0msub\u001b[0m\u001b[0;34m(\u001b[0m\u001b[0;34m'<.*?>'\u001b[0m\u001b[0;34m,\u001b[0m \u001b[0;34m\"\"\u001b[0m\u001b[0;34m,\u001b[0m \u001b[0mstr\u001b[0m\u001b[0;34m(\u001b[0m\u001b[0mi\u001b[0m\u001b[0;34m)\u001b[0m\u001b[0;34m)\u001b[0m \u001b[0;32mfor\u001b[0m \u001b[0mi\u001b[0m \u001b[0;32min\u001b[0m \u001b[0mbplace_raw\u001b[0m\u001b[0;34m]\u001b[0m\u001b[0;34m\u001b[0m\u001b[0m\n\u001b[0m\u001b[1;32m     16\u001b[0m \u001b[0;34m\u001b[0m\u001b[0m\n\u001b[1;32m     17\u001b[0m     \u001b[0mbplace\u001b[0m \u001b[0;34m=\u001b[0m \u001b[0;34m''\u001b[0m\u001b[0;34m.\u001b[0m\u001b[0mjoin\u001b[0m\u001b[0;34m(\u001b[0m\u001b[0mbplace_list\u001b[0m\u001b[0;34m)\u001b[0m\u001b[0;34m\u001b[0m\u001b[0m\n",
      "\u001b[0;31mTypeError\u001b[0m: 'NoneType' object is not iterable"
     ]
    }
   ],
   "source": [
    "get_birthplace('J. K. Rowling')"
   ]
  },
  {
   "cell_type": "code",
   "execution_count": null,
   "metadata": {},
   "outputs": [],
   "source": []
  }
 ],
 "metadata": {
  "kernelspec": {
   "display_name": "Python 3",
   "language": "python",
   "name": "python3"
  },
  "language_info": {
   "codemirror_mode": {
    "name": "ipython",
    "version": 3
   },
   "file_extension": ".py",
   "mimetype": "text/x-python",
   "name": "python",
   "nbconvert_exporter": "python",
   "pygments_lexer": "ipython3",
   "version": "3.7.0"
  }
 },
 "nbformat": 4,
 "nbformat_minor": 2
}

{
 "cells": [
  {
   "cell_type": "markdown",
   "metadata": {
    "toc": true
   },
   "source": [
    "<h1>Contents<span class=\"tocSkip\"></span></h1>\n",
    "<div class=\"toc\"><ul class=\"toc-item\"></ul></div>"
   ]
  },
  {
   "cell_type": "code",
   "execution_count": 1,
   "metadata": {},
   "outputs": [],
   "source": [
    "import requests\n",
    "from bs4 import BeautifulSoup\n",
    "import re\n",
    "from urllib.request import urlretrieve\n",
    "import os.path"
   ]
  },
  {
   "cell_type": "markdown",
   "metadata": {},
   "source": [
    "# Get painting's info"
   ]
  },
  {
   "cell_type": "code",
   "execution_count": 2,
   "metadata": {},
   "outputs": [],
   "source": [
    "def get_soup(url):\n",
    "    \n",
    "    req = requests.get(url)\n",
    "\n",
    "    html_doc = req.text\n",
    "\n",
    "    soup = BeautifulSoup(html_doc)\n",
    "    \n",
    "    return soup"
   ]
  },
  {
   "cell_type": "code",
   "execution_count": 3,
   "metadata": {
    "code_folding": []
   },
   "outputs": [],
   "source": [
    "def get_creator_name(article):\n",
    "    creator = article.find('span', {'itemprop':'name'})\n",
    "    if creator is not None:\n",
    "        creator = re.sub('<.*?>', \"\", str(creator))\n",
    "        creator = re.sub('\\n', \"\", str(creator)).strip()\n",
    "    return creator"
   ]
  },
  {
   "cell_type": "code",
   "execution_count": 4,
   "metadata": {},
   "outputs": [],
   "source": [
    "def get_painting_name(article):\n",
    "    name = article.find('h3')\n",
    "    if name is not None:\n",
    "        name = re.sub('<.*?>', \"\", str(name))\n",
    "        name = re.sub('\\xa0', \" \", str(name))\n",
    "        name = re.sub('\\n', \"\", str(name)).strip()\n",
    "    return name"
   ]
  },
  {
   "cell_type": "code",
   "execution_count": 5,
   "metadata": {},
   "outputs": [],
   "source": [
    "def get_painting_date(article):\n",
    "    date = article.find('span', {'itemprop':'dateCreated'})\n",
    "    if date is not None:\n",
    "        date = re.sub('<.*?>', \"\", str(date))\n",
    "        date = re.sub('\\n', \"\", str(date)).strip()\n",
    "    return date"
   ]
  },
  {
   "cell_type": "code",
   "execution_count": 6,
   "metadata": {},
   "outputs": [],
   "source": [
    "def get_painting_place(article):\n",
    "    place = article.find('span', {'itemprop':'locationCreated'})\n",
    "    if place is not None:\n",
    "        place = re.sub('<.*?>', \"\", str(place))\n",
    "        place = re.sub('\\n', \"\", str(place)).strip()\n",
    "    return place"
   ]
  },
  {
   "cell_type": "code",
   "execution_count": 7,
   "metadata": {},
   "outputs": [],
   "source": [
    "def get_painting_style(article):\n",
    "    style = article.find_all('li')\n",
    "    \n",
    "    for li in style:\n",
    "        if 'Style' in str(li):\n",
    "            style = li\n",
    "            style = re.sub('<.*?>', \"\", str(style))\n",
    "            style = re.sub('\\n', \"\", str(style))\n",
    "            style = style.split(':')[1].strip()\n",
    "            break\n",
    "        else:\n",
    "            style = None\n",
    "        \n",
    "    return style"
   ]
  },
  {
   "cell_type": "code",
   "execution_count": 8,
   "metadata": {},
   "outputs": [],
   "source": [
    "def get_painting_genre(article):\n",
    "    genre = article.find('span', {'itemprop':'genre'})\n",
    "    if genre is not None:\n",
    "        genre = re.sub('<.*?>', \"\", str(genre))\n",
    "        genre = re.sub('\\n', \"\", str(genre)).strip()\n",
    "    return genre"
   ]
  },
  {
   "cell_type": "code",
   "execution_count": 9,
   "metadata": {},
   "outputs": [],
   "source": [
    "def get_painting_media(article):\n",
    "    media = article.find_all('li')\n",
    "    \n",
    "    for li in media:\n",
    "        if 'Media' in str(li):\n",
    "            media = li\n",
    "            media = re.sub('<.*?>', \"\", str(media))\n",
    "            media = re.sub('\\n', \"\", str(media))\n",
    "            media = media.split(':')[1].strip()\n",
    "            break\n",
    "        else:\n",
    "            media = None\n",
    "        \n",
    "    return media"
   ]
  },
  {
   "cell_type": "code",
   "execution_count": 10,
   "metadata": {},
   "outputs": [],
   "source": [
    "def get_painting_current_location(article):\n",
    "    location = article.find_all('li')\n",
    "    \n",
    "    for li in location:\n",
    "        if 'Location' in str(li):\n",
    "            location = li\n",
    "            location = re.sub('<.*?>', \"\", str(location))\n",
    "            location = re.sub('\\n', \"\", str(location))\n",
    "            location = location.split(':')[1].strip()\n",
    "            break\n",
    "        else:\n",
    "            location = None\n",
    "        \n",
    "    return location"
   ]
  },
  {
   "cell_type": "code",
   "execution_count": 11,
   "metadata": {},
   "outputs": [],
   "source": [
    "def get_painting_dimensions(article):\n",
    "    dimensions = article.find_all('li')\n",
    "    \n",
    "    for li in dimensions:\n",
    "        if 'Dimensions' in str(li):\n",
    "            dimensions = li\n",
    "            dimensions = re.sub('<.*?>', \"\", str(dimensions))\n",
    "            dimensions = re.sub('\\n', \"\", str(dimensions))\n",
    "            dimensions = dimensions.split(':')[1].strip()\n",
    "            break\n",
    "        else:\n",
    "            dimensions = None\n",
    "        \n",
    "    return dimensions"
   ]
  },
  {
   "cell_type": "code",
   "execution_count": 12,
   "metadata": {},
   "outputs": [],
   "source": [
    "def get_info_from_soup(soup):\n",
    "\n",
    "    article = soup.find('article')\n",
    "            \n",
    "    creator = get_creator_name(article)    \n",
    "    name = get_painting_name(article)\n",
    "    date = get_painting_date(article)    \n",
    "    place = get_painting_place(article)    \n",
    "    style = get_painting_style(article)    \n",
    "    genre = get_painting_genre(article)    \n",
    "    media = get_painting_media(article)    \n",
    "    location = get_painting_current_location(article)    \n",
    "    dimensions = get_painting_dimensions(article)\n",
    "    \n",
    "    info = [creator, name, date, place, style, genre, media, location, dimensions]\n",
    "\n",
    "    return info"
   ]
  },
  {
   "cell_type": "markdown",
   "metadata": {},
   "source": [
    "# Downloading the painting"
   ]
  },
  {
   "cell_type": "code",
   "execution_count": 13,
   "metadata": {},
   "outputs": [],
   "source": [
    "def painting_downloader(soup, painting_name):\n",
    "    \n",
    "    get_img_wrapper = soup.find('img', {'itemprop':'image'})\n",
    "    \n",
    "    img_url = get_img_wrapper.get('src')\n",
    "\n",
    "    extension = img_url.split('.')[-1]\n",
    "    output_name = painting_name.replace(' ','-')\n",
    "    output_name = output_name.lower()\n",
    "    filename = output_name + '.' + extension\n",
    "    save_path = 'paintings/'+filename\n",
    "    \n",
    "    if os.path.isfile(save_path):\n",
    "        return print(\"A file with the name '{}' already exists.\".format(filename))\n",
    "    else :      \n",
    "        urlretrieve(img_url, save_path)\n",
    "        return print(\"Painting downloaded as '{}'\".format(filename))"
   ]
  },
  {
   "cell_type": "code",
   "execution_count": 14,
   "metadata": {},
   "outputs": [
    {
     "name": "stdout",
     "output_type": "stream",
     "text": [
      "Painting downloaded as 'the-swedish-dyehouse.jpg'\n"
     ]
    }
   ],
   "source": [
    "url_rand = 'https://www.wikiart.org/en/App/Painting/random'\n",
    "soup_rand = get_soup(url_rand)\n",
    "info = get_info_from_soup(soup_rand)\n",
    "painting_downloader(soup_rand,info[1])"
   ]
  },
  {
   "cell_type": "markdown",
   "metadata": {
    "heading_collapsed": true
   },
   "source": [
    "# Look"
   ]
  },
  {
   "cell_type": "code",
   "execution_count": 42,
   "metadata": {
    "hidden": true
   },
   "outputs": [
    {
     "name": "stdout",
     "output_type": "stream",
     "text": [
      "Painting downloaded as 'mona-lisa.jpg'\n"
     ]
    }
   ],
   "source": [
    "url_mona = 'https://www.wikiart.org/en/leonardo-da-vinci/mona-lisa'\n",
    "soup_mona = get_soup(url_mona)\n",
    "info = get_info_from_soup(soup_mona)\n",
    "painting_downloader(soup_mona,info[1])\n",
    "# url_apelles = 'https://www.wikiart.org/en/sandro-botticelli/calumny-of-apelles'\n",
    "# soup_apelles = get_soup(url_apelles)\n",
    "\n",
    "# url = 'https://www.wikiart.org/en/leonardo-da-vinci/the-virgin-of-the-rocks'\n",
    "# soup_virgin = get_soup(url)"
   ]
  },
  {
   "cell_type": "code",
   "execution_count": 41,
   "metadata": {
    "hidden": true
   },
   "outputs": [
    {
     "name": "stdout",
     "output_type": "stream",
     "text": [
      "['Leonardo da Vinci', 'Mona Lisa', '1504', 'Florence', 'High Renaissance', 'portrait', 'oil,panel', 'Louvre, Paris, France', '53 x 77 cm']\n"
     ]
    }
   ],
   "source": [
    "print(get_info_from_soup(soup_mona))\n",
    "# print(get_info_from_soup(soup_apelles))\n",
    "# print(get_info_from_soup(soup_virgin))"
   ]
  },
  {
   "cell_type": "code",
   "execution_count": 14,
   "metadata": {
    "hidden": true
   },
   "outputs": [
    {
     "ename": "NameError",
     "evalue": "name 'pd' is not defined",
     "output_type": "error",
     "traceback": [
      "\u001b[0;31m---------------------------------------------------------------------------\u001b[0m",
      "\u001b[0;31mNameError\u001b[0m                                 Traceback (most recent call last)",
      "\u001b[0;32m<ipython-input-14-640b2952736b>\u001b[0m in \u001b[0;36m<module>\u001b[0;34m\u001b[0m\n\u001b[1;32m      8\u001b[0m     \u001b[0mpaintings_info_list\u001b[0m\u001b[0;34m[\u001b[0m\u001b[0mi\u001b[0m\u001b[0;34m]\u001b[0m \u001b[0;34m=\u001b[0m \u001b[0mget_info_from_soup\u001b[0m\u001b[0;34m(\u001b[0m\u001b[0msoup_rand\u001b[0m\u001b[0;34m)\u001b[0m\u001b[0;34m\u001b[0m\u001b[0;34m\u001b[0m\u001b[0m\n\u001b[1;32m      9\u001b[0m \u001b[0;34m\u001b[0m\u001b[0m\n\u001b[0;32m---> 10\u001b[0;31m \u001b[0mdf\u001b[0m \u001b[0;34m=\u001b[0m \u001b[0mpd\u001b[0m\u001b[0;34m.\u001b[0m\u001b[0mDataFrame\u001b[0m\u001b[0;34m(\u001b[0m\u001b[0mpaintings_info_list\u001b[0m\u001b[0;34m,\u001b[0m \u001b[0mcolumns\u001b[0m\u001b[0;34m=\u001b[0m\u001b[0mkeys\u001b[0m\u001b[0;34m)\u001b[0m\u001b[0;34m\u001b[0m\u001b[0;34m\u001b[0m\u001b[0m\n\u001b[0m",
      "\u001b[0;31mNameError\u001b[0m: name 'pd' is not defined"
     ]
    }
   ],
   "source": [
    "N = 10\n",
    "keys = ['creator', 'name', 'year', 'place', 'style', 'genre', 'media', 'location', 'dimension']\n",
    "paintings_info_list = [[0 for x in keys] for y in range(N)]\n",
    "\n",
    "url_rand = 'https://www.wikiart.org/en/App/Painting/random'\n",
    "for i in range(N):\n",
    "    soup_rand = get_soup(url_rand)\n",
    "    paintings_info_list[i] = get_info_from_soup(soup_rand)\n",
    "\n",
    "df = pd.DataFrame(paintings_info_list, columns=keys)"
   ]
  },
  {
   "cell_type": "code",
   "execution_count": 153,
   "metadata": {
    "hidden": true
   },
   "outputs": [
    {
     "data": {
      "text/plain": [
       "Roger Weik                   8\n",
       "Gustave Dore                 3\n",
       "Richard Jack                 3\n",
       "Vincent van Gogh             2\n",
       "Nicholas Roerich             2\n",
       "Wojciech Siudmak             2\n",
       "Yamamura Toyonari            1\n",
       "Sigmar Polke                 1\n",
       "Max Gubler                   1\n",
       "Leon Berkowitz               1\n",
       "William Merritt Chase        1\n",
       "Giuseppe Arcimboldo          1\n",
       "Tess Jaray                   1\n",
       "James Charles                1\n",
       "Julian Schnabel              1\n",
       "Antonio Carneiro             1\n",
       "William Hart                 1\n",
       "Mary Pratt                   1\n",
       "Paolo Veronese               1\n",
       "Vladimir Borovikovsky        1\n",
       "Andre Lanskoy                1\n",
       "Dante Gabriel Rossetti       1\n",
       "Giacomo Balla                1\n",
       "Raoul Ubac                   1\n",
       "Vasile Kazar                 1\n",
       "Claude Lorrain               1\n",
       "Tea Jorjadze                 1\n",
       "Boris Kustodiev              1\n",
       "Henri de Toulouse-Lautrec    1\n",
       "Karl Schrag                  1\n",
       "                            ..\n",
       "Aleksandr Deyneka            1\n",
       "Ernst Ludwig Kirchner        1\n",
       "Matthias Grünewald           1\n",
       "Bernardo Strozzi             1\n",
       "Norman Rockwell              1\n",
       "Edward Hopper                1\n",
       "Thomas Gainsborough          1\n",
       "Gunther Forg                 1\n",
       "Philip Pearlstein            1\n",
       "Ramon Oviedo                 1\n",
       "Alfred Parsons               1\n",
       "Charles Tunnicliffe          1\n",
       "Peder Severin Kroyer         1\n",
       "Francis Picabia              1\n",
       "Thomas Girtin                1\n",
       "Philip Wilson Steer          1\n",
       "Maurice Denis                1\n",
       "Joshua Reynolds              1\n",
       "Mabuse                       1\n",
       "Pablo Picasso                1\n",
       "Christina Robertson          1\n",
       "Giuseppe Maria Crespi        1\n",
       "John Everett Millais         1\n",
       "Paul Cezanne                 1\n",
       "Samuel Peploe                1\n",
       "Andy Warhol                  1\n",
       "Theophile Steinlen           1\n",
       "Pierre Roy                   1\n",
       "Martin Schongauer            1\n",
       "Harry Clarke                 1\n",
       "Name: creator, Length: 86, dtype: int64"
      ]
     },
     "execution_count": 153,
     "metadata": {},
     "output_type": "execute_result"
    }
   ],
   "source": [
    "df['creator']\n"
   ]
  },
  {
   "cell_type": "code",
   "execution_count": 152,
   "metadata": {
    "hidden": true
   },
   "outputs": [
    {
     "data": {
      "text/html": [
       "<div>\n",
       "<style scoped>\n",
       "    .dataframe tbody tr th:only-of-type {\n",
       "        vertical-align: middle;\n",
       "    }\n",
       "\n",
       "    .dataframe tbody tr th {\n",
       "        vertical-align: top;\n",
       "    }\n",
       "\n",
       "    .dataframe thead th {\n",
       "        text-align: right;\n",
       "    }\n",
       "</style>\n",
       "<table border=\"1\" class=\"dataframe\">\n",
       "  <thead>\n",
       "    <tr style=\"text-align: right;\">\n",
       "      <th></th>\n",
       "      <th>creator</th>\n",
       "      <th>name</th>\n",
       "      <th>year</th>\n",
       "      <th>place</th>\n",
       "      <th>style</th>\n",
       "      <th>genre</th>\n",
       "      <th>media</th>\n",
       "      <th>location</th>\n",
       "      <th>dimension</th>\n",
       "    </tr>\n",
       "  </thead>\n",
       "  <tbody>\n",
       "    <tr>\n",
       "      <th>1</th>\n",
       "      <td>Gustave Dore</td>\n",
       "      <td>The Embarkation of the Souls</td>\n",
       "      <td>None</td>\n",
       "      <td>None</td>\n",
       "      <td>Romanticism</td>\n",
       "      <td>illustration</td>\n",
       "      <td>None</td>\n",
       "      <td>None</td>\n",
       "      <td>None</td>\n",
       "    </tr>\n",
       "    <tr>\n",
       "      <th>2</th>\n",
       "      <td>Roger Weik</td>\n",
       "      <td>\"Infusion\"   2016</td>\n",
       "      <td>2016</td>\n",
       "      <td>Los Angeles</td>\n",
       "      <td>Abstract Expressionism</td>\n",
       "      <td>abstract</td>\n",
       "      <td>None</td>\n",
       "      <td>None</td>\n",
       "      <td>None</td>\n",
       "    </tr>\n",
       "    <tr>\n",
       "      <th>11</th>\n",
       "      <td>Wojciech Siudmak</td>\n",
       "      <td>Three Graces</td>\n",
       "      <td>None</td>\n",
       "      <td>None</td>\n",
       "      <td>Fantastic Realism</td>\n",
       "      <td>symbolic painting</td>\n",
       "      <td>None</td>\n",
       "      <td>None</td>\n",
       "      <td>None</td>\n",
       "    </tr>\n",
       "    <tr>\n",
       "      <th>30</th>\n",
       "      <td>Richard Jack</td>\n",
       "      <td>The Swedish Dyehouse</td>\n",
       "      <td>None</td>\n",
       "      <td>None</td>\n",
       "      <td>Impressionism</td>\n",
       "      <td>genre painting</td>\n",
       "      <td>None</td>\n",
       "      <td>None</td>\n",
       "      <td>None</td>\n",
       "    </tr>\n",
       "    <tr>\n",
       "      <th>35</th>\n",
       "      <td>Gustave Dore</td>\n",
       "      <td>David Shows Saul How He Spared His Life</td>\n",
       "      <td>None</td>\n",
       "      <td>None</td>\n",
       "      <td>Romanticism</td>\n",
       "      <td>religious painting</td>\n",
       "      <td>None</td>\n",
       "      <td>None</td>\n",
       "      <td>None</td>\n",
       "    </tr>\n",
       "    <tr>\n",
       "      <th>39</th>\n",
       "      <td>Vincent van Gogh</td>\n",
       "      <td>Stooping Woman in Landscape</td>\n",
       "      <td>1883</td>\n",
       "      <td>None</td>\n",
       "      <td>Realism</td>\n",
       "      <td>sketch and study</td>\n",
       "      <td>ink,paper</td>\n",
       "      <td>Van Gogh Museum, Amsterdam, Netherlands</td>\n",
       "      <td>None</td>\n",
       "    </tr>\n",
       "    <tr>\n",
       "      <th>42</th>\n",
       "      <td>Roger Weik</td>\n",
       "      <td>\"Infusion\"   2016</td>\n",
       "      <td>2016</td>\n",
       "      <td>Los Angeles</td>\n",
       "      <td>Abstract Expressionism</td>\n",
       "      <td>abstract</td>\n",
       "      <td>None</td>\n",
       "      <td>None</td>\n",
       "      <td>None</td>\n",
       "    </tr>\n",
       "    <tr>\n",
       "      <th>48</th>\n",
       "      <td>Richard Jack</td>\n",
       "      <td>The Swedish Dyehouse</td>\n",
       "      <td>None</td>\n",
       "      <td>None</td>\n",
       "      <td>Impressionism</td>\n",
       "      <td>genre painting</td>\n",
       "      <td>None</td>\n",
       "      <td>None</td>\n",
       "      <td>None</td>\n",
       "    </tr>\n",
       "    <tr>\n",
       "      <th>62</th>\n",
       "      <td>Roger Weik</td>\n",
       "      <td>\"Infusion\"   2016</td>\n",
       "      <td>2016</td>\n",
       "      <td>Los Angeles</td>\n",
       "      <td>Abstract Expressionism</td>\n",
       "      <td>abstract</td>\n",
       "      <td>None</td>\n",
       "      <td>None</td>\n",
       "      <td>None</td>\n",
       "    </tr>\n",
       "    <tr>\n",
       "      <th>64</th>\n",
       "      <td>Roger Weik</td>\n",
       "      <td>\"Infusion\"   2016</td>\n",
       "      <td>2016</td>\n",
       "      <td>Los Angeles</td>\n",
       "      <td>Abstract Expressionism</td>\n",
       "      <td>abstract</td>\n",
       "      <td>None</td>\n",
       "      <td>None</td>\n",
       "      <td>None</td>\n",
       "    </tr>\n",
       "    <tr>\n",
       "      <th>66</th>\n",
       "      <td>Roger Weik</td>\n",
       "      <td>\"Infusion\"   2016</td>\n",
       "      <td>2016</td>\n",
       "      <td>Los Angeles</td>\n",
       "      <td>Abstract Expressionism</td>\n",
       "      <td>abstract</td>\n",
       "      <td>None</td>\n",
       "      <td>None</td>\n",
       "      <td>None</td>\n",
       "    </tr>\n",
       "    <tr>\n",
       "      <th>67</th>\n",
       "      <td>Nicholas Roerich</td>\n",
       "      <td>Rond rocks</td>\n",
       "      <td>1911</td>\n",
       "      <td>None</td>\n",
       "      <td>Symbolism</td>\n",
       "      <td>landscape</td>\n",
       "      <td>None</td>\n",
       "      <td>None</td>\n",
       "      <td>None</td>\n",
       "    </tr>\n",
       "    <tr>\n",
       "      <th>68</th>\n",
       "      <td>Roger Weik</td>\n",
       "      <td>\"Infusion\"   2016</td>\n",
       "      <td>2016</td>\n",
       "      <td>Los Angeles</td>\n",
       "      <td>Abstract Expressionism</td>\n",
       "      <td>abstract</td>\n",
       "      <td>None</td>\n",
       "      <td>None</td>\n",
       "      <td>None</td>\n",
       "    </tr>\n",
       "    <tr>\n",
       "      <th>74</th>\n",
       "      <td>Wojciech Siudmak</td>\n",
       "      <td>Equestrian Statue Puzzle</td>\n",
       "      <td>None</td>\n",
       "      <td>None</td>\n",
       "      <td>Fantastic Realism</td>\n",
       "      <td>symbolic painting</td>\n",
       "      <td>None</td>\n",
       "      <td>None</td>\n",
       "      <td>None</td>\n",
       "    </tr>\n",
       "    <tr>\n",
       "      <th>80</th>\n",
       "      <td>Vincent van Gogh</td>\n",
       "      <td>The Garden with Flowers</td>\n",
       "      <td>1888</td>\n",
       "      <td>Arles, Bouches-du-Rhône</td>\n",
       "      <td>Post-Impressionism</td>\n",
       "      <td>sketch and study</td>\n",
       "      <td>ink,paper</td>\n",
       "      <td>Private Collection</td>\n",
       "      <td>61 x 49 cm</td>\n",
       "    </tr>\n",
       "    <tr>\n",
       "      <th>86</th>\n",
       "      <td>Richard Jack</td>\n",
       "      <td>The Swedish Dyehouse</td>\n",
       "      <td>None</td>\n",
       "      <td>None</td>\n",
       "      <td>Impressionism</td>\n",
       "      <td>genre painting</td>\n",
       "      <td>None</td>\n",
       "      <td>None</td>\n",
       "      <td>None</td>\n",
       "    </tr>\n",
       "    <tr>\n",
       "      <th>87</th>\n",
       "      <td>Nicholas Roerich</td>\n",
       "      <td>Pass</td>\n",
       "      <td>None</td>\n",
       "      <td>None</td>\n",
       "      <td>Symbolism</td>\n",
       "      <td>landscape</td>\n",
       "      <td>None</td>\n",
       "      <td>None</td>\n",
       "      <td>None</td>\n",
       "    </tr>\n",
       "    <tr>\n",
       "      <th>93</th>\n",
       "      <td>Roger Weik</td>\n",
       "      <td>\"Infusion\"   2016</td>\n",
       "      <td>2016</td>\n",
       "      <td>Los Angeles</td>\n",
       "      <td>Abstract Expressionism</td>\n",
       "      <td>abstract</td>\n",
       "      <td>None</td>\n",
       "      <td>None</td>\n",
       "      <td>None</td>\n",
       "    </tr>\n",
       "    <tr>\n",
       "      <th>94</th>\n",
       "      <td>Gustave Dore</td>\n",
       "      <td>Don Quixote</td>\n",
       "      <td>None</td>\n",
       "      <td>None</td>\n",
       "      <td>Romanticism</td>\n",
       "      <td>illustration</td>\n",
       "      <td>None</td>\n",
       "      <td>None</td>\n",
       "      <td>None</td>\n",
       "    </tr>\n",
       "    <tr>\n",
       "      <th>99</th>\n",
       "      <td>Roger Weik</td>\n",
       "      <td>\"Infusion\"   2016</td>\n",
       "      <td>2016</td>\n",
       "      <td>Los Angeles</td>\n",
       "      <td>Abstract Expressionism</td>\n",
       "      <td>abstract</td>\n",
       "      <td>None</td>\n",
       "      <td>None</td>\n",
       "      <td>None</td>\n",
       "    </tr>\n",
       "  </tbody>\n",
       "</table>\n",
       "</div>"
      ],
      "text/plain": [
       "             creator                                     name  year  \\\n",
       "1       Gustave Dore             The Embarkation of the Souls  None   \n",
       "2         Roger Weik                        \"Infusion\"   2016  2016   \n",
       "11  Wojciech Siudmak                             Three Graces  None   \n",
       "30      Richard Jack                     The Swedish Dyehouse  None   \n",
       "35      Gustave Dore  David Shows Saul How He Spared His Life  None   \n",
       "39  Vincent van Gogh              Stooping Woman in Landscape  1883   \n",
       "42        Roger Weik                        \"Infusion\"   2016  2016   \n",
       "48      Richard Jack                     The Swedish Dyehouse  None   \n",
       "62        Roger Weik                        \"Infusion\"   2016  2016   \n",
       "64        Roger Weik                        \"Infusion\"   2016  2016   \n",
       "66        Roger Weik                        \"Infusion\"   2016  2016   \n",
       "67  Nicholas Roerich                               Rond rocks  1911   \n",
       "68        Roger Weik                        \"Infusion\"   2016  2016   \n",
       "74  Wojciech Siudmak                 Equestrian Statue Puzzle  None   \n",
       "80  Vincent van Gogh                  The Garden with Flowers  1888   \n",
       "86      Richard Jack                     The Swedish Dyehouse  None   \n",
       "87  Nicholas Roerich                                     Pass  None   \n",
       "93        Roger Weik                        \"Infusion\"   2016  2016   \n",
       "94      Gustave Dore                              Don Quixote  None   \n",
       "99        Roger Weik                        \"Infusion\"   2016  2016   \n",
       "\n",
       "                      place                   style               genre  \\\n",
       "1                      None             Romanticism        illustration   \n",
       "2               Los Angeles  Abstract Expressionism            abstract   \n",
       "11                     None       Fantastic Realism   symbolic painting   \n",
       "30                     None           Impressionism      genre painting   \n",
       "35                     None             Romanticism  religious painting   \n",
       "39                     None                 Realism    sketch and study   \n",
       "42              Los Angeles  Abstract Expressionism            abstract   \n",
       "48                     None           Impressionism      genre painting   \n",
       "62              Los Angeles  Abstract Expressionism            abstract   \n",
       "64              Los Angeles  Abstract Expressionism            abstract   \n",
       "66              Los Angeles  Abstract Expressionism            abstract   \n",
       "67                     None               Symbolism           landscape   \n",
       "68              Los Angeles  Abstract Expressionism            abstract   \n",
       "74                     None       Fantastic Realism   symbolic painting   \n",
       "80  Arles, Bouches-du-Rhône      Post-Impressionism    sketch and study   \n",
       "86                     None           Impressionism      genre painting   \n",
       "87                     None               Symbolism           landscape   \n",
       "93              Los Angeles  Abstract Expressionism            abstract   \n",
       "94                     None             Romanticism        illustration   \n",
       "99              Los Angeles  Abstract Expressionism            abstract   \n",
       "\n",
       "        media                                 location   dimension  \n",
       "1        None                                     None        None  \n",
       "2        None                                     None        None  \n",
       "11       None                                     None        None  \n",
       "30       None                                     None        None  \n",
       "35       None                                     None        None  \n",
       "39  ink,paper  Van Gogh Museum, Amsterdam, Netherlands        None  \n",
       "42       None                                     None        None  \n",
       "48       None                                     None        None  \n",
       "62       None                                     None        None  \n",
       "64       None                                     None        None  \n",
       "66       None                                     None        None  \n",
       "67       None                                     None        None  \n",
       "68       None                                     None        None  \n",
       "74       None                                     None        None  \n",
       "80  ink,paper                       Private Collection  61 x 49 cm  \n",
       "86       None                                     None        None  \n",
       "87       None                                     None        None  \n",
       "93       None                                     None        None  \n",
       "94       None                                     None        None  \n",
       "99       None                                     None        None  "
      ]
     },
     "execution_count": 152,
     "metadata": {},
     "output_type": "execute_result"
    }
   ],
   "source": [
    "df.groupby('creator').filter(lambda x: x['name'].count() >= 2)"
   ]
  },
  {
   "cell_type": "code",
   "execution_count": 139,
   "metadata": {
    "hidden": true
   },
   "outputs": [
    {
     "data": {
      "text/plain": [
       "pandas.core.series.Series"
      ]
     },
     "execution_count": 139,
     "metadata": {},
     "output_type": "execute_result"
    }
   ],
   "source": [
    "repeated.filter(lambda x: x['creator'].count() >= 2)"
   ]
  },
  {
   "cell_type": "markdown",
   "metadata": {},
   "source": [
    "# Creating a dataset"
   ]
  },
  {
   "cell_type": "code",
   "execution_count": 15,
   "metadata": {},
   "outputs": [
    {
     "data": {
      "text/plain": [
       "['Richard Jack',\n",
       " 'The Swedish Dyehouse',\n",
       " None,\n",
       " None,\n",
       " 'Impressionism',\n",
       " 'genre painting',\n",
       " None,\n",
       " None,\n",
       " None]"
      ]
     },
     "execution_count": 15,
     "metadata": {},
     "output_type": "execute_result"
    }
   ],
   "source": [
    "from PIL import Image, ImageOps\n",
    "import matplotlib.pyplot as plt\n",
    "info"
   ]
  },
  {
   "cell_type": "code",
   "execution_count": 16,
   "metadata": {},
   "outputs": [],
   "source": [
    "output_name = info[1].replace(' ','-')\n",
    "output_name = output_name.lower()\n",
    "file_path = 'paintings/'+output_name+'.jpg'\n",
    "img = Image.open(file_path)\n",
    "\n",
    "# file_path = folder + \"circles/\" + filename + \"(\" + str(i) + \")\" + extension\n",
    "# img = Image.open(file_path)"
   ]
  },
  {
   "cell_type": "code",
   "execution_count": 17,
   "metadata": {},
   "outputs": [],
   "source": [
    "raw = np.asarray(img)"
   ]
  },
  {
   "cell_type": "code",
   "execution_count": 18,
   "metadata": {},
   "outputs": [
    {
     "data": {
      "text/plain": [
       "<matplotlib.image.AxesImage at 0x11e0ad630>"
      ]
     },
     "execution_count": 18,
     "metadata": {},
     "output_type": "execute_result"
    },
    {
     "data": {
      "image/png": "[encoded data removed]",
      "text/plain": [
       "<Figure size 432x288 with 1 Axes>"
      ]
     },
     "metadata": {
      "needs_background": "light"
     },
     "output_type": "display_data"
    }
   ],
   "source": [
    "plt.imshow(raw)"
   ]
  },
  {
   "cell_type": "code",
   "execution_count": 65,
   "metadata": {},
   "outputs": [
    {
     "ename": "TypeError",
     "evalue": "'int' object is not subscriptable",
     "output_type": "error",
     "traceback": [
      "\u001b[0;31m---------------------------------------------------------------------------\u001b[0m",
      "\u001b[0;31mTypeError\u001b[0m                                 Traceback (most recent call last)",
      "\u001b[0;32m<ipython-input-65-2ca7402a82d2>\u001b[0m in \u001b[0;36m<module>\u001b[0;34m\u001b[0m\n\u001b[1;32m      1\u001b[0m \u001b[0msize\u001b[0m \u001b[0;34m=\u001b[0m \u001b[0;34m[\u001b[0m\u001b[0;36m36\u001b[0m\u001b[0;34m,\u001b[0m \u001b[0;36m36\u001b[0m\u001b[0;34m]\u001b[0m\u001b[0;34m\u001b[0m\u001b[0;34m\u001b[0m\u001b[0m\n\u001b[0;32m----> 2\u001b[0;31m \u001b[0mresized\u001b[0m \u001b[0;34m=\u001b[0m \u001b[0mImageOps\u001b[0m\u001b[0;34m.\u001b[0m\u001b[0mfit\u001b[0m\u001b[0;34m(\u001b[0m\u001b[0mraw\u001b[0m\u001b[0;34m,\u001b[0m \u001b[0msize\u001b[0m\u001b[0;34m,\u001b[0m \u001b[0mImage\u001b[0m\u001b[0;34m.\u001b[0m\u001b[0mANTIALIAS\u001b[0m\u001b[0;34m)\u001b[0m\u001b[0;34m\u001b[0m\u001b[0;34m\u001b[0m\u001b[0m\n\u001b[0m",
      "\u001b[0;32m/anaconda3/envs/ds_tf/lib/python3.6/site-packages/PIL/ImageOps.py\u001b[0m in \u001b[0;36mfit\u001b[0;34m(image, size, method, bleed, centering)\u001b[0m\n\u001b[1;32m    418\u001b[0m     \u001b[0;31m# number of pixels to trim off on Top and Bottom, Left and Right\u001b[0m\u001b[0;34m\u001b[0m\u001b[0;34m\u001b[0m\u001b[0;34m\u001b[0m\u001b[0m\n\u001b[1;32m    419\u001b[0m     bleedPixels = (\n\u001b[0;32m--> 420\u001b[0;31m         \u001b[0mint\u001b[0m\u001b[0;34m(\u001b[0m\u001b[0;34m(\u001b[0m\u001b[0mfloat\u001b[0m\u001b[0;34m(\u001b[0m\u001b[0mbleed\u001b[0m\u001b[0;34m)\u001b[0m \u001b[0;34m*\u001b[0m \u001b[0mfloat\u001b[0m\u001b[0;34m(\u001b[0m\u001b[0mimage\u001b[0m\u001b[0;34m.\u001b[0m\u001b[0msize\u001b[0m\u001b[0;34m[\u001b[0m\u001b[0;36m0\u001b[0m\u001b[0;34m]\u001b[0m\u001b[0;34m)\u001b[0m\u001b[0;34m)\u001b[0m \u001b[0;34m+\u001b[0m \u001b[0;36m0.5\u001b[0m\u001b[0;34m)\u001b[0m\u001b[0;34m,\u001b[0m\u001b[0;34m\u001b[0m\u001b[0;34m\u001b[0m\u001b[0m\n\u001b[0m\u001b[1;32m    421\u001b[0m         \u001b[0mint\u001b[0m\u001b[0;34m(\u001b[0m\u001b[0;34m(\u001b[0m\u001b[0mfloat\u001b[0m\u001b[0;34m(\u001b[0m\u001b[0mbleed\u001b[0m\u001b[0;34m)\u001b[0m \u001b[0;34m*\u001b[0m \u001b[0mfloat\u001b[0m\u001b[0;34m(\u001b[0m\u001b[0mimage\u001b[0m\u001b[0;34m.\u001b[0m\u001b[0msize\u001b[0m\u001b[0;34m[\u001b[0m\u001b[0;36m1\u001b[0m\u001b[0;34m]\u001b[0m\u001b[0;34m)\u001b[0m\u001b[0;34m)\u001b[0m \u001b[0;34m+\u001b[0m \u001b[0;36m0.5\u001b[0m\u001b[0;34m)\u001b[0m\u001b[0;34m\u001b[0m\u001b[0;34m\u001b[0m\u001b[0m\n\u001b[1;32m    422\u001b[0m         )\n",
      "\u001b[0;31mTypeError\u001b[0m: 'int' object is not subscriptable"
     ]
    }
   ],
   "source": [
    "size = [36, 36]\n",
    "resized = ImageOps.fit(raw, size, Image.ANTIALIAS)"
   ]
  },
  {
   "cell_type": "code",
   "execution_count": null,
   "metadata": {},
   "outputs": [],
   "source": [
    "im.thumbnail(size, Image.ANTIALIAS)"
   ]
  }
 ],
 "metadata": {
  "kernelspec": {
   "display_name": "Python 3",
   "language": "python",
   "name": "python3"
  },
  "language_info": {
   "codemirror_mode": {
    "name": "ipython",
    "version": 3
   },
   "file_extension": ".py",
   "mimetype": "text/x-python",
   "name": "python",
   "nbconvert_exporter": "python",
   "pygments_lexer": "ipython3",
   "version": "3.6.7"
  },
  "toc": {
   "base_numbering": 1,
   "nav_menu": {},
   "number_sections": false,
   "sideBar": true,
   "skip_h1_title": true,
   "title_cell": "Contents",
   "title_sidebar": "Contents",
   "toc_cell": true,
   "toc_position": {},
   "toc_section_display": true,
   "toc_window_display": false
  },
  "varInspector": {
   "cols": {
    "lenName": 16,
    "lenType": 16,
    "lenVar": 40
   },
   "kernels_config": {
    "python": {
     "delete_cmd_postfix": "",
     "delete_cmd_prefix": "del ",
     "library": "var_list.py",
     "varRefreshCmd": "print(var_dic_list())"
    },
    "r": {
     "delete_cmd_postfix": ") ",
     "delete_cmd_prefix": "rm(",
     "library": "var_list.r",
     "varRefreshCmd": "cat(var_dic_list()) "
    }
   },
   "types_to_exclude": [
    "module",
    "function",
    "builtin_function_or_method",
    "instance",
    "_Feature"
   ],
   "window_display": false
  }
 },
 "nbformat": 4,
 "nbformat_minor": 2
}

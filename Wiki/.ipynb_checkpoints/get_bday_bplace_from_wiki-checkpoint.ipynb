{
 "cells": [
  {
   "cell_type": "code",
   "execution_count": 3,
   "metadata": {},
   "outputs": [],
   "source": [
    "# Import packages\n",
    "import requests\n",
    "from bs4 import BeautifulSoup\n",
    "import wikipedia\n",
    "import re"
   ]
  },
  {
   "cell_type": "code",
   "execution_count": 4,
   "metadata": {},
   "outputs": [],
   "source": [
    "def get_birthplace(name):\n",
    "    wikipedia_url = wikipedia.page(name).url\n",
    "    req = requests.get(wikipedia_url)\n",
    "    html_doc = req.text\n",
    "    soup = BeautifulSoup(html_doc)\n",
    "    \n",
    "    infobox = soup.find('table', {\"class\": \"infobox\"})\n",
    "    \n",
    "    bday_raw = infobox.find('span', {\"class\":'bday'})\n",
    "    bday = re.sub('<.*?>', \"\", str(bday_raw))\n",
    "    \n",
    "    bplace_raw = infobox.find('span', {\"class\": 'birthplace'})\n",
    "    bplace = re.sub('<.*?>', \"\", str(bplace_raw))\n",
    "    \n",
    "# #     roles = infobox.find('td', {\"class\": 'role'})\n",
    "    return print(name, bday, bplace)"
   ]
  },
  {
   "cell_type": "code",
   "execution_count": 5,
   "metadata": {
    "scrolled": true
   },
   "outputs": [
    {
     "name": "stdout",
     "output_type": "stream",
     "text": [
      "Angelina Jolie 1975-06-04 None\n",
      "Brad Pitt 1963-12-18 None\n",
      "Jackie Chan 1954-04-07 None\n",
      "Emma Watson 1990-04-15 None\n"
     ]
    }
   ],
   "source": [
    "get_birthplace(\"Angelina Jolie\")\n",
    "get_birthplace(\"Brad Pitt\")\n",
    "get_birthplace(\"Jackie Chan\")\n",
    "get_birthplace(\"Emma Watson\")"
   ]
  },
  {
   "cell_type": "code",
   "execution_count": 6,
   "metadata": {},
   "outputs": [
    {
     "name": "stdout",
     "output_type": "stream",
     "text": [
      "Robert Downey Jr. 1965-04-04 None\n"
     ]
    }
   ],
   "source": [
    "get_birthplace('Robert Downey Jr.')"
   ]
  },
  {
   "cell_type": "code",
   "execution_count": null,
   "metadata": {},
   "outputs": [],
   "source": []
  }
 ],
 "metadata": {
  "kernelspec": {
   "display_name": "Python 3",
   "language": "python",
   "name": "python3"
  },
  "language_info": {
   "codemirror_mode": {
    "name": "ipython",
    "version": 3
   },
   "file_extension": ".py",
   "mimetype": "text/x-python",
   "name": "python",
   "nbconvert_exporter": "python",
   "pygments_lexer": "ipython3",
   "version": "3.6.6"
  }
 },
 "nbformat": 4,
 "nbformat_minor": 2
}
